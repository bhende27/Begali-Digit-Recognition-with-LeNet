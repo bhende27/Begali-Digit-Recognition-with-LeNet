{
  "nbformat": 4,
  "nbformat_minor": 0,
  "metadata": {
    "kernelspec": {
      "display_name": "Python 3",
      "language": "python",
      "name": "python3"
    },
    "language_info": {
      "codemirror_mode": {
        "name": "ipython",
        "version": 3
      },
      "file_extension": ".py",
      "mimetype": "text/x-python",
      "name": "python",
      "nbconvert_exporter": "python",
      "pygments_lexer": "ipython3",
      "version": "3.7.3"
    },
    "colab": {
      "name": "16MI31022_T5b.ipynb",
      "provenance": [],
      "collapsed_sections": [],
      "include_colab_link": true
    },
    "widgets": {
      "application/vnd.jupyter.widget-state+json": {
        "5a75b50c6bbf43cc8a2b8c3ee8a864d5": {
          "model_module": "@jupyter-widgets/controls",
          "model_name": "HBoxModel",
          "state": {
            "_view_name": "HBoxView",
            "_dom_classes": [],
            "_model_name": "HBoxModel",
            "_view_module": "@jupyter-widgets/controls",
            "_model_module_version": "1.5.0",
            "_view_count": null,
            "_view_module_version": "1.5.0",
            "box_style": "",
            "layout": "IPY_MODEL_b6e12c666901445f8f7fbea46b87331b",
            "_model_module": "@jupyter-widgets/controls",
            "children": [
              "IPY_MODEL_d6dea69b65a84b698915e5a1620397a8",
              "IPY_MODEL_4c5deb6ba17e4622ac64bd1894f7d856"
            ]
          }
        },
        "b6e12c666901445f8f7fbea46b87331b": {
          "model_module": "@jupyter-widgets/base",
          "model_name": "LayoutModel",
          "state": {
            "_view_name": "LayoutView",
            "grid_template_rows": null,
            "right": null,
            "justify_content": null,
            "_view_module": "@jupyter-widgets/base",
            "overflow": null,
            "_model_module_version": "1.2.0",
            "_view_count": null,
            "flex_flow": null,
            "width": null,
            "min_width": null,
            "border": null,
            "align_items": null,
            "bottom": null,
            "_model_module": "@jupyter-widgets/base",
            "top": null,
            "grid_column": null,
            "overflow_y": null,
            "overflow_x": null,
            "grid_auto_flow": null,
            "grid_area": null,
            "grid_template_columns": null,
            "flex": null,
            "_model_name": "LayoutModel",
            "justify_items": null,
            "grid_row": null,
            "max_height": null,
            "align_content": null,
            "visibility": null,
            "align_self": null,
            "height": null,
            "min_height": null,
            "padding": null,
            "grid_auto_rows": null,
            "grid_gap": null,
            "max_width": null,
            "order": null,
            "_view_module_version": "1.2.0",
            "grid_template_areas": null,
            "object_position": null,
            "object_fit": null,
            "grid_auto_columns": null,
            "margin": null,
            "display": null,
            "left": null
          }
        },
        "d6dea69b65a84b698915e5a1620397a8": {
          "model_module": "@jupyter-widgets/controls",
          "model_name": "IntProgressModel",
          "state": {
            "_view_name": "ProgressView",
            "style": "IPY_MODEL_ecc18f19c3ff4b82a1ce8ed05ccf9d3c",
            "_dom_classes": [],
            "description": "",
            "_model_name": "IntProgressModel",
            "bar_style": "success",
            "max": 1,
            "_view_module": "@jupyter-widgets/controls",
            "_model_module_version": "1.5.0",
            "value": 1,
            "_view_count": null,
            "_view_module_version": "1.5.0",
            "orientation": "horizontal",
            "min": 0,
            "description_tooltip": null,
            "_model_module": "@jupyter-widgets/controls",
            "layout": "IPY_MODEL_2bea10730f954d80b39c0f61262ea7a7"
          }
        },
        "4c5deb6ba17e4622ac64bd1894f7d856": {
          "model_module": "@jupyter-widgets/controls",
          "model_name": "HTMLModel",
          "state": {
            "_view_name": "HTMLView",
            "style": "IPY_MODEL_9fd2b9278643443a91a9386587a81396",
            "_dom_classes": [],
            "description": "",
            "_model_name": "HTMLModel",
            "placeholder": "​",
            "_view_module": "@jupyter-widgets/controls",
            "_model_module_version": "1.5.0",
            "value": "9920512it [00:00, 28396012.90it/s]",
            "_view_count": null,
            "_view_module_version": "1.5.0",
            "description_tooltip": null,
            "_model_module": "@jupyter-widgets/controls",
            "layout": "IPY_MODEL_1fc1d12614224f608e1409e163d44bd9"
          }
        },
        "ecc18f19c3ff4b82a1ce8ed05ccf9d3c": {
          "model_module": "@jupyter-widgets/controls",
          "model_name": "ProgressStyleModel",
          "state": {
            "_view_name": "StyleView",
            "_model_name": "ProgressStyleModel",
            "description_width": "",
            "_view_module": "@jupyter-widgets/base",
            "_model_module_version": "1.5.0",
            "_view_count": null,
            "_view_module_version": "1.2.0",
            "bar_color": null,
            "_model_module": "@jupyter-widgets/controls"
          }
        },
        "2bea10730f954d80b39c0f61262ea7a7": {
          "model_module": "@jupyter-widgets/base",
          "model_name": "LayoutModel",
          "state": {
            "_view_name": "LayoutView",
            "grid_template_rows": null,
            "right": null,
            "justify_content": null,
            "_view_module": "@jupyter-widgets/base",
            "overflow": null,
            "_model_module_version": "1.2.0",
            "_view_count": null,
            "flex_flow": null,
            "width": null,
            "min_width": null,
            "border": null,
            "align_items": null,
            "bottom": null,
            "_model_module": "@jupyter-widgets/base",
            "top": null,
            "grid_column": null,
            "overflow_y": null,
            "overflow_x": null,
            "grid_auto_flow": null,
            "grid_area": null,
            "grid_template_columns": null,
            "flex": null,
            "_model_name": "LayoutModel",
            "justify_items": null,
            "grid_row": null,
            "max_height": null,
            "align_content": null,
            "visibility": null,
            "align_self": null,
            "height": null,
            "min_height": null,
            "padding": null,
            "grid_auto_rows": null,
            "grid_gap": null,
            "max_width": null,
            "order": null,
            "_view_module_version": "1.2.0",
            "grid_template_areas": null,
            "object_position": null,
            "object_fit": null,
            "grid_auto_columns": null,
            "margin": null,
            "display": null,
            "left": null
          }
        },
        "9fd2b9278643443a91a9386587a81396": {
          "model_module": "@jupyter-widgets/controls",
          "model_name": "DescriptionStyleModel",
          "state": {
            "_view_name": "StyleView",
            "_model_name": "DescriptionStyleModel",
            "description_width": "",
            "_view_module": "@jupyter-widgets/base",
            "_model_module_version": "1.5.0",
            "_view_count": null,
            "_view_module_version": "1.2.0",
            "_model_module": "@jupyter-widgets/controls"
          }
        },
        "1fc1d12614224f608e1409e163d44bd9": {
          "model_module": "@jupyter-widgets/base",
          "model_name": "LayoutModel",
          "state": {
            "_view_name": "LayoutView",
            "grid_template_rows": null,
            "right": null,
            "justify_content": null,
            "_view_module": "@jupyter-widgets/base",
            "overflow": null,
            "_model_module_version": "1.2.0",
            "_view_count": null,
            "flex_flow": null,
            "width": null,
            "min_width": null,
            "border": null,
            "align_items": null,
            "bottom": null,
            "_model_module": "@jupyter-widgets/base",
            "top": null,
            "grid_column": null,
            "overflow_y": null,
            "overflow_x": null,
            "grid_auto_flow": null,
            "grid_area": null,
            "grid_template_columns": null,
            "flex": null,
            "_model_name": "LayoutModel",
            "justify_items": null,
            "grid_row": null,
            "max_height": null,
            "align_content": null,
            "visibility": null,
            "align_self": null,
            "height": null,
            "min_height": null,
            "padding": null,
            "grid_auto_rows": null,
            "grid_gap": null,
            "max_width": null,
            "order": null,
            "_view_module_version": "1.2.0",
            "grid_template_areas": null,
            "object_position": null,
            "object_fit": null,
            "grid_auto_columns": null,
            "margin": null,
            "display": null,
            "left": null
          }
        },
        "bec1b6507926403b9a2a872d01e45cf7": {
          "model_module": "@jupyter-widgets/controls",
          "model_name": "HBoxModel",
          "state": {
            "_view_name": "HBoxView",
            "_dom_classes": [],
            "_model_name": "HBoxModel",
            "_view_module": "@jupyter-widgets/controls",
            "_model_module_version": "1.5.0",
            "_view_count": null,
            "_view_module_version": "1.5.0",
            "box_style": "",
            "layout": "IPY_MODEL_611e27065c5447969b56cfd632cca968",
            "_model_module": "@jupyter-widgets/controls",
            "children": [
              "IPY_MODEL_fd3acf0f58c74f9ea88cd392e615e71f",
              "IPY_MODEL_90d067f2e5194f898d568440ac3ce9c4"
            ]
          }
        },
        "611e27065c5447969b56cfd632cca968": {
          "model_module": "@jupyter-widgets/base",
          "model_name": "LayoutModel",
          "state": {
            "_view_name": "LayoutView",
            "grid_template_rows": null,
            "right": null,
            "justify_content": null,
            "_view_module": "@jupyter-widgets/base",
            "overflow": null,
            "_model_module_version": "1.2.0",
            "_view_count": null,
            "flex_flow": null,
            "width": null,
            "min_width": null,
            "border": null,
            "align_items": null,
            "bottom": null,
            "_model_module": "@jupyter-widgets/base",
            "top": null,
            "grid_column": null,
            "overflow_y": null,
            "overflow_x": null,
            "grid_auto_flow": null,
            "grid_area": null,
            "grid_template_columns": null,
            "flex": null,
            "_model_name": "LayoutModel",
            "justify_items": null,
            "grid_row": null,
            "max_height": null,
            "align_content": null,
            "visibility": null,
            "align_self": null,
            "height": null,
            "min_height": null,
            "padding": null,
            "grid_auto_rows": null,
            "grid_gap": null,
            "max_width": null,
            "order": null,
            "_view_module_version": "1.2.0",
            "grid_template_areas": null,
            "object_position": null,
            "object_fit": null,
            "grid_auto_columns": null,
            "margin": null,
            "display": null,
            "left": null
          }
        },
        "fd3acf0f58c74f9ea88cd392e615e71f": {
          "model_module": "@jupyter-widgets/controls",
          "model_name": "IntProgressModel",
          "state": {
            "_view_name": "ProgressView",
            "style": "IPY_MODEL_47f556e8176e4006bbd970b6a6b08e46",
            "_dom_classes": [],
            "description": "",
            "_model_name": "IntProgressModel",
            "bar_style": "success",
            "max": 1,
            "_view_module": "@jupyter-widgets/controls",
            "_model_module_version": "1.5.0",
            "value": 1,
            "_view_count": null,
            "_view_module_version": "1.5.0",
            "orientation": "horizontal",
            "min": 0,
            "description_tooltip": null,
            "_model_module": "@jupyter-widgets/controls",
            "layout": "IPY_MODEL_6fc0b28c9a3e49acad5f149918737c94"
          }
        },
        "90d067f2e5194f898d568440ac3ce9c4": {
          "model_module": "@jupyter-widgets/controls",
          "model_name": "HTMLModel",
          "state": {
            "_view_name": "HTMLView",
            "style": "IPY_MODEL_c34aac75c1f94ec4a43d16c6a20e87fd",
            "_dom_classes": [],
            "description": "",
            "_model_name": "HTMLModel",
            "placeholder": "​",
            "_view_module": "@jupyter-widgets/controls",
            "_model_module_version": "1.5.0",
            "value": "32768it [00:00, 251484.33it/s]",
            "_view_count": null,
            "_view_module_version": "1.5.0",
            "description_tooltip": null,
            "_model_module": "@jupyter-widgets/controls",
            "layout": "IPY_MODEL_76490d725fcc4bc384b897ec0118e03d"
          }
        },
        "47f556e8176e4006bbd970b6a6b08e46": {
          "model_module": "@jupyter-widgets/controls",
          "model_name": "ProgressStyleModel",
          "state": {
            "_view_name": "StyleView",
            "_model_name": "ProgressStyleModel",
            "description_width": "",
            "_view_module": "@jupyter-widgets/base",
            "_model_module_version": "1.5.0",
            "_view_count": null,
            "_view_module_version": "1.2.0",
            "bar_color": null,
            "_model_module": "@jupyter-widgets/controls"
          }
        },
        "6fc0b28c9a3e49acad5f149918737c94": {
          "model_module": "@jupyter-widgets/base",
          "model_name": "LayoutModel",
          "state": {
            "_view_name": "LayoutView",
            "grid_template_rows": null,
            "right": null,
            "justify_content": null,
            "_view_module": "@jupyter-widgets/base",
            "overflow": null,
            "_model_module_version": "1.2.0",
            "_view_count": null,
            "flex_flow": null,
            "width": null,
            "min_width": null,
            "border": null,
            "align_items": null,
            "bottom": null,
            "_model_module": "@jupyter-widgets/base",
            "top": null,
            "grid_column": null,
            "overflow_y": null,
            "overflow_x": null,
            "grid_auto_flow": null,
            "grid_area": null,
            "grid_template_columns": null,
            "flex": null,
            "_model_name": "LayoutModel",
            "justify_items": null,
            "grid_row": null,
            "max_height": null,
            "align_content": null,
            "visibility": null,
            "align_self": null,
            "height": null,
            "min_height": null,
            "padding": null,
            "grid_auto_rows": null,
            "grid_gap": null,
            "max_width": null,
            "order": null,
            "_view_module_version": "1.2.0",
            "grid_template_areas": null,
            "object_position": null,
            "object_fit": null,
            "grid_auto_columns": null,
            "margin": null,
            "display": null,
            "left": null
          }
        },
        "c34aac75c1f94ec4a43d16c6a20e87fd": {
          "model_module": "@jupyter-widgets/controls",
          "model_name": "DescriptionStyleModel",
          "state": {
            "_view_name": "StyleView",
            "_model_name": "DescriptionStyleModel",
            "description_width": "",
            "_view_module": "@jupyter-widgets/base",
            "_model_module_version": "1.5.0",
            "_view_count": null,
            "_view_module_version": "1.2.0",
            "_model_module": "@jupyter-widgets/controls"
          }
        },
        "76490d725fcc4bc384b897ec0118e03d": {
          "model_module": "@jupyter-widgets/base",
          "model_name": "LayoutModel",
          "state": {
            "_view_name": "LayoutView",
            "grid_template_rows": null,
            "right": null,
            "justify_content": null,
            "_view_module": "@jupyter-widgets/base",
            "overflow": null,
            "_model_module_version": "1.2.0",
            "_view_count": null,
            "flex_flow": null,
            "width": null,
            "min_width": null,
            "border": null,
            "align_items": null,
            "bottom": null,
            "_model_module": "@jupyter-widgets/base",
            "top": null,
            "grid_column": null,
            "overflow_y": null,
            "overflow_x": null,
            "grid_auto_flow": null,
            "grid_area": null,
            "grid_template_columns": null,
            "flex": null,
            "_model_name": "LayoutModel",
            "justify_items": null,
            "grid_row": null,
            "max_height": null,
            "align_content": null,
            "visibility": null,
            "align_self": null,
            "height": null,
            "min_height": null,
            "padding": null,
            "grid_auto_rows": null,
            "grid_gap": null,
            "max_width": null,
            "order": null,
            "_view_module_version": "1.2.0",
            "grid_template_areas": null,
            "object_position": null,
            "object_fit": null,
            "grid_auto_columns": null,
            "margin": null,
            "display": null,
            "left": null
          }
        },
        "0f1218fb30d74cf7b62f80bdc8a71f1b": {
          "model_module": "@jupyter-widgets/controls",
          "model_name": "HBoxModel",
          "state": {
            "_view_name": "HBoxView",
            "_dom_classes": [],
            "_model_name": "HBoxModel",
            "_view_module": "@jupyter-widgets/controls",
            "_model_module_version": "1.5.0",
            "_view_count": null,
            "_view_module_version": "1.5.0",
            "box_style": "",
            "layout": "IPY_MODEL_7c53a36678ca465ca526b3b9b3fcd64c",
            "_model_module": "@jupyter-widgets/controls",
            "children": [
              "IPY_MODEL_60274fd2a1a045759da27020a47d8314",
              "IPY_MODEL_fe7af3159a6e4600a8ae40b259f2a9f3"
            ]
          }
        },
        "7c53a36678ca465ca526b3b9b3fcd64c": {
          "model_module": "@jupyter-widgets/base",
          "model_name": "LayoutModel",
          "state": {
            "_view_name": "LayoutView",
            "grid_template_rows": null,
            "right": null,
            "justify_content": null,
            "_view_module": "@jupyter-widgets/base",
            "overflow": null,
            "_model_module_version": "1.2.0",
            "_view_count": null,
            "flex_flow": null,
            "width": null,
            "min_width": null,
            "border": null,
            "align_items": null,
            "bottom": null,
            "_model_module": "@jupyter-widgets/base",
            "top": null,
            "grid_column": null,
            "overflow_y": null,
            "overflow_x": null,
            "grid_auto_flow": null,
            "grid_area": null,
            "grid_template_columns": null,
            "flex": null,
            "_model_name": "LayoutModel",
            "justify_items": null,
            "grid_row": null,
            "max_height": null,
            "align_content": null,
            "visibility": null,
            "align_self": null,
            "height": null,
            "min_height": null,
            "padding": null,
            "grid_auto_rows": null,
            "grid_gap": null,
            "max_width": null,
            "order": null,
            "_view_module_version": "1.2.0",
            "grid_template_areas": null,
            "object_position": null,
            "object_fit": null,
            "grid_auto_columns": null,
            "margin": null,
            "display": null,
            "left": null
          }
        },
        "60274fd2a1a045759da27020a47d8314": {
          "model_module": "@jupyter-widgets/controls",
          "model_name": "IntProgressModel",
          "state": {
            "_view_name": "ProgressView",
            "style": "IPY_MODEL_21ab14b1ef704ec8b666dc25316725d4",
            "_dom_classes": [],
            "description": "",
            "_model_name": "IntProgressModel",
            "bar_style": "success",
            "max": 1,
            "_view_module": "@jupyter-widgets/controls",
            "_model_module_version": "1.5.0",
            "value": 1,
            "_view_count": null,
            "_view_module_version": "1.5.0",
            "orientation": "horizontal",
            "min": 0,
            "description_tooltip": null,
            "_model_module": "@jupyter-widgets/controls",
            "layout": "IPY_MODEL_34c60caa33a14e24bcdf3ae3c0b482a4"
          }
        },
        "fe7af3159a6e4600a8ae40b259f2a9f3": {
          "model_module": "@jupyter-widgets/controls",
          "model_name": "HTMLModel",
          "state": {
            "_view_name": "HTMLView",
            "style": "IPY_MODEL_4d82d7814eba466b90a4f33cc31a3d98",
            "_dom_classes": [],
            "description": "",
            "_model_name": "HTMLModel",
            "placeholder": "​",
            "_view_module": "@jupyter-widgets/controls",
            "_model_module_version": "1.5.0",
            "value": "1654784it [00:00, 6060966.37it/s]",
            "_view_count": null,
            "_view_module_version": "1.5.0",
            "description_tooltip": null,
            "_model_module": "@jupyter-widgets/controls",
            "layout": "IPY_MODEL_965ce640999c476f8df5cc6413b0d5e8"
          }
        },
        "21ab14b1ef704ec8b666dc25316725d4": {
          "model_module": "@jupyter-widgets/controls",
          "model_name": "ProgressStyleModel",
          "state": {
            "_view_name": "StyleView",
            "_model_name": "ProgressStyleModel",
            "description_width": "",
            "_view_module": "@jupyter-widgets/base",
            "_model_module_version": "1.5.0",
            "_view_count": null,
            "_view_module_version": "1.2.0",
            "bar_color": null,
            "_model_module": "@jupyter-widgets/controls"
          }
        },
        "34c60caa33a14e24bcdf3ae3c0b482a4": {
          "model_module": "@jupyter-widgets/base",
          "model_name": "LayoutModel",
          "state": {
            "_view_name": "LayoutView",
            "grid_template_rows": null,
            "right": null,
            "justify_content": null,
            "_view_module": "@jupyter-widgets/base",
            "overflow": null,
            "_model_module_version": "1.2.0",
            "_view_count": null,
            "flex_flow": null,
            "width": null,
            "min_width": null,
            "border": null,
            "align_items": null,
            "bottom": null,
            "_model_module": "@jupyter-widgets/base",
            "top": null,
            "grid_column": null,
            "overflow_y": null,
            "overflow_x": null,
            "grid_auto_flow": null,
            "grid_area": null,
            "grid_template_columns": null,
            "flex": null,
            "_model_name": "LayoutModel",
            "justify_items": null,
            "grid_row": null,
            "max_height": null,
            "align_content": null,
            "visibility": null,
            "align_self": null,
            "height": null,
            "min_height": null,
            "padding": null,
            "grid_auto_rows": null,
            "grid_gap": null,
            "max_width": null,
            "order": null,
            "_view_module_version": "1.2.0",
            "grid_template_areas": null,
            "object_position": null,
            "object_fit": null,
            "grid_auto_columns": null,
            "margin": null,
            "display": null,
            "left": null
          }
        },
        "4d82d7814eba466b90a4f33cc31a3d98": {
          "model_module": "@jupyter-widgets/controls",
          "model_name": "DescriptionStyleModel",
          "state": {
            "_view_name": "StyleView",
            "_model_name": "DescriptionStyleModel",
            "description_width": "",
            "_view_module": "@jupyter-widgets/base",
            "_model_module_version": "1.5.0",
            "_view_count": null,
            "_view_module_version": "1.2.0",
            "_model_module": "@jupyter-widgets/controls"
          }
        },
        "965ce640999c476f8df5cc6413b0d5e8": {
          "model_module": "@jupyter-widgets/base",
          "model_name": "LayoutModel",
          "state": {
            "_view_name": "LayoutView",
            "grid_template_rows": null,
            "right": null,
            "justify_content": null,
            "_view_module": "@jupyter-widgets/base",
            "overflow": null,
            "_model_module_version": "1.2.0",
            "_view_count": null,
            "flex_flow": null,
            "width": null,
            "min_width": null,
            "border": null,
            "align_items": null,
            "bottom": null,
            "_model_module": "@jupyter-widgets/base",
            "top": null,
            "grid_column": null,
            "overflow_y": null,
            "overflow_x": null,
            "grid_auto_flow": null,
            "grid_area": null,
            "grid_template_columns": null,
            "flex": null,
            "_model_name": "LayoutModel",
            "justify_items": null,
            "grid_row": null,
            "max_height": null,
            "align_content": null,
            "visibility": null,
            "align_self": null,
            "height": null,
            "min_height": null,
            "padding": null,
            "grid_auto_rows": null,
            "grid_gap": null,
            "max_width": null,
            "order": null,
            "_view_module_version": "1.2.0",
            "grid_template_areas": null,
            "object_position": null,
            "object_fit": null,
            "grid_auto_columns": null,
            "margin": null,
            "display": null,
            "left": null
          }
        },
        "5a7e38ece36b44e98a179ec3e2318ff9": {
          "model_module": "@jupyter-widgets/controls",
          "model_name": "HBoxModel",
          "state": {
            "_view_name": "HBoxView",
            "_dom_classes": [],
            "_model_name": "HBoxModel",
            "_view_module": "@jupyter-widgets/controls",
            "_model_module_version": "1.5.0",
            "_view_count": null,
            "_view_module_version": "1.5.0",
            "box_style": "",
            "layout": "IPY_MODEL_e09ba70bcb37408c82d2ea32f5ba829b",
            "_model_module": "@jupyter-widgets/controls",
            "children": [
              "IPY_MODEL_cba46ec123584a7c85f59b840b7350ef",
              "IPY_MODEL_ce1e1421d08b473ba94a1dd00d15293e"
            ]
          }
        },
        "e09ba70bcb37408c82d2ea32f5ba829b": {
          "model_module": "@jupyter-widgets/base",
          "model_name": "LayoutModel",
          "state": {
            "_view_name": "LayoutView",
            "grid_template_rows": null,
            "right": null,
            "justify_content": null,
            "_view_module": "@jupyter-widgets/base",
            "overflow": null,
            "_model_module_version": "1.2.0",
            "_view_count": null,
            "flex_flow": null,
            "width": null,
            "min_width": null,
            "border": null,
            "align_items": null,
            "bottom": null,
            "_model_module": "@jupyter-widgets/base",
            "top": null,
            "grid_column": null,
            "overflow_y": null,
            "overflow_x": null,
            "grid_auto_flow": null,
            "grid_area": null,
            "grid_template_columns": null,
            "flex": null,
            "_model_name": "LayoutModel",
            "justify_items": null,
            "grid_row": null,
            "max_height": null,
            "align_content": null,
            "visibility": null,
            "align_self": null,
            "height": null,
            "min_height": null,
            "padding": null,
            "grid_auto_rows": null,
            "grid_gap": null,
            "max_width": null,
            "order": null,
            "_view_module_version": "1.2.0",
            "grid_template_areas": null,
            "object_position": null,
            "object_fit": null,
            "grid_auto_columns": null,
            "margin": null,
            "display": null,
            "left": null
          }
        },
        "cba46ec123584a7c85f59b840b7350ef": {
          "model_module": "@jupyter-widgets/controls",
          "model_name": "IntProgressModel",
          "state": {
            "_view_name": "ProgressView",
            "style": "IPY_MODEL_ecbac0651fed4d64b7870aab3bdd854f",
            "_dom_classes": [],
            "description": "",
            "_model_name": "IntProgressModel",
            "bar_style": "success",
            "max": 1,
            "_view_module": "@jupyter-widgets/controls",
            "_model_module_version": "1.5.0",
            "value": 1,
            "_view_count": null,
            "_view_module_version": "1.5.0",
            "orientation": "horizontal",
            "min": 0,
            "description_tooltip": null,
            "_model_module": "@jupyter-widgets/controls",
            "layout": "IPY_MODEL_79c297d2fdd84bef8ff1ff51078f1c2b"
          }
        },
        "ce1e1421d08b473ba94a1dd00d15293e": {
          "model_module": "@jupyter-widgets/controls",
          "model_name": "HTMLModel",
          "state": {
            "_view_name": "HTMLView",
            "style": "IPY_MODEL_3d8b2b672a854856a4afe046832b9e02",
            "_dom_classes": [],
            "description": "",
            "_model_name": "HTMLModel",
            "placeholder": "​",
            "_view_module": "@jupyter-widgets/controls",
            "_model_module_version": "1.5.0",
            "value": "8192it [00:00, 91877.35it/s]",
            "_view_count": null,
            "_view_module_version": "1.5.0",
            "description_tooltip": null,
            "_model_module": "@jupyter-widgets/controls",
            "layout": "IPY_MODEL_f77c2597553a4d048ca3a5ba9a1b368d"
          }
        },
        "ecbac0651fed4d64b7870aab3bdd854f": {
          "model_module": "@jupyter-widgets/controls",
          "model_name": "ProgressStyleModel",
          "state": {
            "_view_name": "StyleView",
            "_model_name": "ProgressStyleModel",
            "description_width": "",
            "_view_module": "@jupyter-widgets/base",
            "_model_module_version": "1.5.0",
            "_view_count": null,
            "_view_module_version": "1.2.0",
            "bar_color": null,
            "_model_module": "@jupyter-widgets/controls"
          }
        },
        "79c297d2fdd84bef8ff1ff51078f1c2b": {
          "model_module": "@jupyter-widgets/base",
          "model_name": "LayoutModel",
          "state": {
            "_view_name": "LayoutView",
            "grid_template_rows": null,
            "right": null,
            "justify_content": null,
            "_view_module": "@jupyter-widgets/base",
            "overflow": null,
            "_model_module_version": "1.2.0",
            "_view_count": null,
            "flex_flow": null,
            "width": null,
            "min_width": null,
            "border": null,
            "align_items": null,
            "bottom": null,
            "_model_module": "@jupyter-widgets/base",
            "top": null,
            "grid_column": null,
            "overflow_y": null,
            "overflow_x": null,
            "grid_auto_flow": null,
            "grid_area": null,
            "grid_template_columns": null,
            "flex": null,
            "_model_name": "LayoutModel",
            "justify_items": null,
            "grid_row": null,
            "max_height": null,
            "align_content": null,
            "visibility": null,
            "align_self": null,
            "height": null,
            "min_height": null,
            "padding": null,
            "grid_auto_rows": null,
            "grid_gap": null,
            "max_width": null,
            "order": null,
            "_view_module_version": "1.2.0",
            "grid_template_areas": null,
            "object_position": null,
            "object_fit": null,
            "grid_auto_columns": null,
            "margin": null,
            "display": null,
            "left": null
          }
        },
        "3d8b2b672a854856a4afe046832b9e02": {
          "model_module": "@jupyter-widgets/controls",
          "model_name": "DescriptionStyleModel",
          "state": {
            "_view_name": "StyleView",
            "_model_name": "DescriptionStyleModel",
            "description_width": "",
            "_view_module": "@jupyter-widgets/base",
            "_model_module_version": "1.5.0",
            "_view_count": null,
            "_view_module_version": "1.2.0",
            "_model_module": "@jupyter-widgets/controls"
          }
        },
        "f77c2597553a4d048ca3a5ba9a1b368d": {
          "model_module": "@jupyter-widgets/base",
          "model_name": "LayoutModel",
          "state": {
            "_view_name": "LayoutView",
            "grid_template_rows": null,
            "right": null,
            "justify_content": null,
            "_view_module": "@jupyter-widgets/base",
            "overflow": null,
            "_model_module_version": "1.2.0",
            "_view_count": null,
            "flex_flow": null,
            "width": null,
            "min_width": null,
            "border": null,
            "align_items": null,
            "bottom": null,
            "_model_module": "@jupyter-widgets/base",
            "top": null,
            "grid_column": null,
            "overflow_y": null,
            "overflow_x": null,
            "grid_auto_flow": null,
            "grid_area": null,
            "grid_template_columns": null,
            "flex": null,
            "_model_name": "LayoutModel",
            "justify_items": null,
            "grid_row": null,
            "max_height": null,
            "align_content": null,
            "visibility": null,
            "align_self": null,
            "height": null,
            "min_height": null,
            "padding": null,
            "grid_auto_rows": null,
            "grid_gap": null,
            "max_width": null,
            "order": null,
            "_view_module_version": "1.2.0",
            "grid_template_areas": null,
            "object_position": null,
            "object_fit": null,
            "grid_auto_columns": null,
            "margin": null,
            "display": null,
            "left": null
          }
        }
      }
    }
  },
  "cells": [
    {
      "cell_type": "markdown",
      "metadata": {
        "id": "view-in-github",
        "colab_type": "text"
      },
      "source": [
        "<a href=\"https://colab.research.google.com/github/bhende27/Begali-Digit-Recognition-with-LeNet/blob/master/16MI31022_T5b_ADAM.ipynb\" target=\"_parent\"><img src=\"https://colab.research.google.com/assets/colab-badge.svg\" alt=\"Open In Colab\"/></a>"
      ]
    },
    {
      "cell_type": "markdown",
      "metadata": {
        "id": "nBlUxKvpUfvY",
        "colab_type": "text"
      },
      "source": [
        "# AI61002_Spr2020\n",
        "## Tutorial 5 : Training LeNet for Digit Recognition using ADAM\n",
        "##Part 1: Training error/ Accuracy vs Epoch with diffrent batchsize with fixed learning rate=0.001"
      ]
    },
    {
      "cell_type": "code",
      "metadata": {
        "id": "zZ9_n2ddUfvb",
        "colab_type": "code",
        "colab": {}
      },
      "source": [
        "%matplotlib inline\n",
        "import torch\n",
        "import numpy as np\n",
        "import torch.nn as nn\n",
        "import torch.nn.functional as F\n",
        "import matplotlib.pyplot as plt\n",
        "from torchvision import transforms, datasets"
      ],
      "execution_count": null,
      "outputs": []
    },
    {
      "cell_type": "markdown",
      "metadata": {
        "id": "P557UsM1Ufvg",
        "colab_type": "text"
      },
      "source": [
        "### Load data"
      ]
    },
    {
      "cell_type": "code",
      "metadata": {
        "id": "hiVkvwnqUfvh",
        "colab_type": "code",
        "colab": {
          "base_uri": "https://localhost:8080/",
          "height": 383,
          "referenced_widgets": [
            "5a75b50c6bbf43cc8a2b8c3ee8a864d5",
            "b6e12c666901445f8f7fbea46b87331b",
            "d6dea69b65a84b698915e5a1620397a8",
            "4c5deb6ba17e4622ac64bd1894f7d856",
            "ecc18f19c3ff4b82a1ce8ed05ccf9d3c",
            "2bea10730f954d80b39c0f61262ea7a7",
            "9fd2b9278643443a91a9386587a81396",
            "1fc1d12614224f608e1409e163d44bd9",
            "bec1b6507926403b9a2a872d01e45cf7",
            "611e27065c5447969b56cfd632cca968",
            "fd3acf0f58c74f9ea88cd392e615e71f",
            "90d067f2e5194f898d568440ac3ce9c4",
            "47f556e8176e4006bbd970b6a6b08e46",
            "6fc0b28c9a3e49acad5f149918737c94",
            "c34aac75c1f94ec4a43d16c6a20e87fd",
            "76490d725fcc4bc384b897ec0118e03d",
            "0f1218fb30d74cf7b62f80bdc8a71f1b",
            "7c53a36678ca465ca526b3b9b3fcd64c",
            "60274fd2a1a045759da27020a47d8314",
            "fe7af3159a6e4600a8ae40b259f2a9f3",
            "21ab14b1ef704ec8b666dc25316725d4",
            "34c60caa33a14e24bcdf3ae3c0b482a4",
            "4d82d7814eba466b90a4f33cc31a3d98",
            "965ce640999c476f8df5cc6413b0d5e8",
            "5a7e38ece36b44e98a179ec3e2318ff9",
            "e09ba70bcb37408c82d2ea32f5ba829b",
            "cba46ec123584a7c85f59b840b7350ef",
            "ce1e1421d08b473ba94a1dd00d15293e",
            "ecbac0651fed4d64b7870aab3bdd854f",
            "79c297d2fdd84bef8ff1ff51078f1c2b",
            "3d8b2b672a854856a4afe046832b9e02",
            "f77c2597553a4d048ca3a5ba9a1b368d"
          ]
        },
        "outputId": "3698ac94-6b40-428c-f9be-0382eab8d851"
      },
      "source": [
        "apply_transform = transforms.Compose([transforms.Resize(32), transforms.ToTensor()])\n",
        "#BatchSize = 128 # change according to system specs\n",
        "BatchSize= [64,128,256,512,1024]\n",
        "trainLoader=[]\n",
        "testLoader=[]\n",
        "for i in range(0,5):\n",
        "  trainset = datasets.MNIST(root='./MNIST', train=True, download=True, transform=apply_transform)\n",
        "  TrainLoader = torch.utils.data.DataLoader(trainset, batch_size=BatchSize[i],          #Diffrent dataset with diffrent batchsize\n",
        "                                            shuffle=True, num_workers=4) # Creating dataloader\n",
        "  trainLoader.append(TrainLoader)                                         \n",
        "\n",
        "  # Validation set with random rotations in the range [-90,90]\n",
        "  testset = datasets.MNIST(root='./MNIST', train=False, download=True, transform=apply_transform)\n",
        "  TestLoader = torch.utils.data.DataLoader(testset, batch_size=BatchSize[i],\n",
        "                                          shuffle=False, num_workers=4) # Creating dataloader\n",
        "  testLoader.append(TestLoader)                                        "
      ],
      "execution_count": null,
      "outputs": [
        {
          "output_type": "stream",
          "text": [
            "Downloading http://yann.lecun.com/exdb/mnist/train-images-idx3-ubyte.gz to ./MNIST/MNIST/raw/train-images-idx3-ubyte.gz\n"
          ],
          "name": "stdout"
        },
        {
          "output_type": "display_data",
          "data": {
            "application/vnd.jupyter.widget-view+json": {
              "model_id": "5a75b50c6bbf43cc8a2b8c3ee8a864d5",
              "version_minor": 0,
              "version_major": 2
            },
            "text/plain": [
              "HBox(children=(IntProgress(value=1, bar_style='info', max=1), HTML(value='')))"
            ]
          },
          "metadata": {
            "tags": []
          }
        },
        {
          "output_type": "stream",
          "text": [
            "\n",
            "Extracting ./MNIST/MNIST/raw/train-images-idx3-ubyte.gz to ./MNIST/MNIST/raw\n",
            "Downloading http://yann.lecun.com/exdb/mnist/train-labels-idx1-ubyte.gz to ./MNIST/MNIST/raw/train-labels-idx1-ubyte.gz\n"
          ],
          "name": "stdout"
        },
        {
          "output_type": "display_data",
          "data": {
            "application/vnd.jupyter.widget-view+json": {
              "model_id": "bec1b6507926403b9a2a872d01e45cf7",
              "version_minor": 0,
              "version_major": 2
            },
            "text/plain": [
              "HBox(children=(IntProgress(value=1, bar_style='info', max=1), HTML(value='')))"
            ]
          },
          "metadata": {
            "tags": []
          }
        },
        {
          "output_type": "stream",
          "text": [
            "\n",
            "Extracting ./MNIST/MNIST/raw/train-labels-idx1-ubyte.gz to ./MNIST/MNIST/raw\n",
            "Downloading http://yann.lecun.com/exdb/mnist/t10k-images-idx3-ubyte.gz to ./MNIST/MNIST/raw/t10k-images-idx3-ubyte.gz\n"
          ],
          "name": "stdout"
        },
        {
          "output_type": "display_data",
          "data": {
            "application/vnd.jupyter.widget-view+json": {
              "model_id": "0f1218fb30d74cf7b62f80bdc8a71f1b",
              "version_minor": 0,
              "version_major": 2
            },
            "text/plain": [
              "HBox(children=(IntProgress(value=1, bar_style='info', max=1), HTML(value='')))"
            ]
          },
          "metadata": {
            "tags": []
          }
        },
        {
          "output_type": "stream",
          "text": [
            "\n",
            "Extracting ./MNIST/MNIST/raw/t10k-images-idx3-ubyte.gz to ./MNIST/MNIST/raw\n",
            "Downloading http://yann.lecun.com/exdb/mnist/t10k-labels-idx1-ubyte.gz to ./MNIST/MNIST/raw/t10k-labels-idx1-ubyte.gz\n"
          ],
          "name": "stdout"
        },
        {
          "output_type": "display_data",
          "data": {
            "application/vnd.jupyter.widget-view+json": {
              "model_id": "5a7e38ece36b44e98a179ec3e2318ff9",
              "version_minor": 0,
              "version_major": 2
            },
            "text/plain": [
              "HBox(children=(IntProgress(value=1, bar_style='info', max=1), HTML(value='')))"
            ]
          },
          "metadata": {
            "tags": []
          }
        },
        {
          "output_type": "stream",
          "text": [
            "\n",
            "Extracting ./MNIST/MNIST/raw/t10k-labels-idx1-ubyte.gz to ./MNIST/MNIST/raw\n",
            "Processing...\n",
            "Done!\n"
          ],
          "name": "stdout"
        }
      ]
    },
    {
      "cell_type": "code",
      "metadata": {
        "id": "dJhaCbObHd-j",
        "colab_type": "code",
        "colab": {
          "base_uri": "https://localhost:8080/",
          "height": 34
        },
        "outputId": "2723aaca-ad56-4184-88f0-0e55a779a9e6"
      },
      "source": [
        "len(trainLoader)"
      ],
      "execution_count": null,
      "outputs": [
        {
          "output_type": "execute_result",
          "data": {
            "text/plain": [
              "5"
            ]
          },
          "metadata": {
            "tags": []
          },
          "execution_count": 3
        }
      ]
    },
    {
      "cell_type": "code",
      "metadata": {
        "id": "czJGDkeRUfvl",
        "colab_type": "code",
        "colab": {
          "base_uri": "https://localhost:8080/",
          "height": 187
        },
        "outputId": "c8b83364-3667-4b25-856b-1656d185ed1f"
      },
      "source": [
        "# Size of train and test datasets\n",
        "for i in range(0,5):\n",
        "  print('No. of samples in train set: '+str(len(trainLoader[i].dataset)))\n",
        "  print('No. of samples in test set: '+str(len(testLoader[i].dataset)))"
      ],
      "execution_count": null,
      "outputs": [
        {
          "output_type": "stream",
          "text": [
            "No. of samples in train set: 60000\n",
            "No. of samples in test set: 10000\n",
            "No. of samples in train set: 60000\n",
            "No. of samples in test set: 10000\n",
            "No. of samples in train set: 60000\n",
            "No. of samples in test set: 10000\n",
            "No. of samples in train set: 60000\n",
            "No. of samples in test set: 10000\n",
            "No. of samples in train set: 60000\n",
            "No. of samples in test set: 10000\n"
          ],
          "name": "stdout"
        }
      ]
    },
    {
      "cell_type": "markdown",
      "metadata": {
        "id": "lgWZ-RCzUfvp",
        "colab_type": "text"
      },
      "source": [
        "### Define model architecture"
      ]
    },
    {
      "cell_type": "code",
      "metadata": {
        "id": "4-qj6yvaUfvr",
        "colab_type": "code",
        "colab": {}
      },
      "source": [
        "class LeNet(nn.Module):\n",
        "    def __init__(self):\n",
        "        super(LeNet, self).__init__()\n",
        "        self.conv1 = nn.Conv2d(1, 6, kernel_size=5)\n",
        "        self.pool1 = nn.MaxPool2d(kernel_size=2,stride=2)\n",
        "        self.conv2 = nn.Conv2d(6, 16, kernel_size=5)\n",
        "        self.pool2 = nn.MaxPool2d(kernel_size=2,stride=2)        \n",
        "        self.fc1 = nn.Linear(400, 120)\n",
        "        self.fc2 = nn.Linear(120, 84)\n",
        "        self.fc3 = nn.Linear(84, 10)\n",
        "\n",
        "    def forward(self, x):\n",
        "        x = F.relu(self.conv1(x))\n",
        "        x = self.pool1(x)\n",
        "        x = F.relu(self.conv2(x))\n",
        "        x = self.pool2(x)\n",
        "        x = x.view(-1, 400)\n",
        "        x = F.relu(self.fc1(x)) \n",
        "        x = F.relu(self.fc2(x))\n",
        "        x = self.fc3(x)\n",
        "        return F.log_softmax(x,dim=1)"
      ],
      "execution_count": null,
      "outputs": []
    },
    {
      "cell_type": "code",
      "metadata": {
        "id": "FQAJW9NwUfvu",
        "colab_type": "code",
        "colab": {
          "base_uri": "https://localhost:8080/",
          "height": 731
        },
        "outputId": "868fc217-9679-46f0-f81b-70f4925804dc"
      },
      "source": [
        "use_gpu = torch.cuda.is_available()\n",
        "net1 = LeNet()\n",
        "net2 = LeNet()\n",
        "net3 = LeNet()          #5 net defined for 5 diffrent batchsize\n",
        "net4 = LeNet()\n",
        "net5 = LeNet()\n",
        "net=[net1, net2, net3, net4, net5]\n",
        "print(net)\n",
        "'''if use_gpu:\n",
        "    print('GPU is avaialble!')\n",
        "    net = net.cuda()'''"
      ],
      "execution_count": null,
      "outputs": [
        {
          "output_type": "stream",
          "text": [
            "[LeNet(\n",
            "  (conv1): Conv2d(1, 6, kernel_size=(5, 5), stride=(1, 1))\n",
            "  (pool1): MaxPool2d(kernel_size=2, stride=2, padding=0, dilation=1, ceil_mode=False)\n",
            "  (conv2): Conv2d(6, 16, kernel_size=(5, 5), stride=(1, 1))\n",
            "  (pool2): MaxPool2d(kernel_size=2, stride=2, padding=0, dilation=1, ceil_mode=False)\n",
            "  (fc1): Linear(in_features=400, out_features=120, bias=True)\n",
            "  (fc2): Linear(in_features=120, out_features=84, bias=True)\n",
            "  (fc3): Linear(in_features=84, out_features=10, bias=True)\n",
            "), LeNet(\n",
            "  (conv1): Conv2d(1, 6, kernel_size=(5, 5), stride=(1, 1))\n",
            "  (pool1): MaxPool2d(kernel_size=2, stride=2, padding=0, dilation=1, ceil_mode=False)\n",
            "  (conv2): Conv2d(6, 16, kernel_size=(5, 5), stride=(1, 1))\n",
            "  (pool2): MaxPool2d(kernel_size=2, stride=2, padding=0, dilation=1, ceil_mode=False)\n",
            "  (fc1): Linear(in_features=400, out_features=120, bias=True)\n",
            "  (fc2): Linear(in_features=120, out_features=84, bias=True)\n",
            "  (fc3): Linear(in_features=84, out_features=10, bias=True)\n",
            "), LeNet(\n",
            "  (conv1): Conv2d(1, 6, kernel_size=(5, 5), stride=(1, 1))\n",
            "  (pool1): MaxPool2d(kernel_size=2, stride=2, padding=0, dilation=1, ceil_mode=False)\n",
            "  (conv2): Conv2d(6, 16, kernel_size=(5, 5), stride=(1, 1))\n",
            "  (pool2): MaxPool2d(kernel_size=2, stride=2, padding=0, dilation=1, ceil_mode=False)\n",
            "  (fc1): Linear(in_features=400, out_features=120, bias=True)\n",
            "  (fc2): Linear(in_features=120, out_features=84, bias=True)\n",
            "  (fc3): Linear(in_features=84, out_features=10, bias=True)\n",
            "), LeNet(\n",
            "  (conv1): Conv2d(1, 6, kernel_size=(5, 5), stride=(1, 1))\n",
            "  (pool1): MaxPool2d(kernel_size=2, stride=2, padding=0, dilation=1, ceil_mode=False)\n",
            "  (conv2): Conv2d(6, 16, kernel_size=(5, 5), stride=(1, 1))\n",
            "  (pool2): MaxPool2d(kernel_size=2, stride=2, padding=0, dilation=1, ceil_mode=False)\n",
            "  (fc1): Linear(in_features=400, out_features=120, bias=True)\n",
            "  (fc2): Linear(in_features=120, out_features=84, bias=True)\n",
            "  (fc3): Linear(in_features=84, out_features=10, bias=True)\n",
            "), LeNet(\n",
            "  (conv1): Conv2d(1, 6, kernel_size=(5, 5), stride=(1, 1))\n",
            "  (pool1): MaxPool2d(kernel_size=2, stride=2, padding=0, dilation=1, ceil_mode=False)\n",
            "  (conv2): Conv2d(6, 16, kernel_size=(5, 5), stride=(1, 1))\n",
            "  (pool2): MaxPool2d(kernel_size=2, stride=2, padding=0, dilation=1, ceil_mode=False)\n",
            "  (fc1): Linear(in_features=400, out_features=120, bias=True)\n",
            "  (fc2): Linear(in_features=120, out_features=84, bias=True)\n",
            "  (fc3): Linear(in_features=84, out_features=10, bias=True)\n",
            ")]\n"
          ],
          "name": "stdout"
        },
        {
          "output_type": "execute_result",
          "data": {
            "text/plain": [
              "\"if use_gpu:\\n    print('GPU is avaialble!')\\n    net = net.cuda()\""
            ]
          },
          "metadata": {
            "tags": []
          },
          "execution_count": 6
        }
      ]
    },
    {
      "cell_type": "markdown",
      "metadata": {
        "id": "npK8hAw0Ufvz",
        "colab_type": "text"
      },
      "source": [
        "### Train model"
      ]
    },
    {
      "cell_type": "code",
      "metadata": {
        "id": "B3GuPDALUfv0",
        "colab_type": "code",
        "colab": {
          "base_uri": "https://localhost:8080/",
          "height": 1000
        },
        "outputId": "9fbd2c8d-6306-4601-fe27-e7a8467cd017"
      },
      "source": [
        "Learning_rate = 0.0001\n",
        "num_epochs = 50\n",
        "import torch.optim as optim\n",
        "criterion = nn.CrossEntropyLoss() \n",
        "\n",
        "\n",
        "train_loss = []\n",
        "train_acc = []\n",
        "Train_loss = []\n",
        "Train_acc = []\n",
        "for m in range(0,5):\n",
        "  print(\"For Batchsize: \"+ str(BatchSize[m]) +\" and Neural Network net \"+ str(m+1) )\n",
        "  optimizer = optim.Adam(net[m].parameters(),lr=Learning_rate)\n",
        "  for epoch in range(num_epochs):\n",
        "      \n",
        "      running_loss = 0.0 \n",
        "      running_corr = 0   \n",
        "      for i,data in enumerate(trainLoader[m]):\n",
        "          inputs,labels = data\n",
        "          if use_gpu:\n",
        "              inputs, labels = inputs.cuda(),labels.cuda() \n",
        "          # Initializing model gradients to zero\n",
        "          #net.zero_grad()\n",
        "          optimizer.zero_grad() \n",
        "          # Data feed-forward through the network\n",
        "          outputs = net[m](inputs)\n",
        "          # Predicted class is the one with maximum probability\n",
        "          preds = torch.argmax(outputs,dim=1)\n",
        "          # Finding the loss\n",
        "          loss = criterion(outputs, labels)\n",
        "          # Accumulating the loss for each batch\n",
        "          running_loss += loss \n",
        "          # Accumulate number of correct predictions\n",
        "          running_corr += torch.sum(preds==labels)   \n",
        "\n",
        "          \n",
        "          \n",
        "          #totalLoss = running_loss/(i+1)\n",
        "          # Calculating gradients\n",
        "          loss.backward()\n",
        "          # Updating the model parameters\n",
        "          optimizer.step()\n",
        "          #for f in net.parameters():\n",
        "          #   f.data.sub_(f.grad.data * learning_rate)\n",
        "          \n",
        "      epoch_loss = running_loss.item()/(i+1)   #Total loss for one epoch\n",
        "      epoch_acc = running_corr.item()/60000\n",
        "      \n",
        "      \n",
        "          \n",
        "      train_loss.append(epoch_loss) #Saving the loss over epochs for plotting the graph\n",
        "      train_acc.append(epoch_acc) #Saving the accuracy over epochs for plotting the graph\n",
        "        \n",
        "          \n",
        "      print('Epoch {:.0f}/{:.0f} : Training loss: {:.4f} | Training Accuracy: {:.4f}'.format(epoch+1,num_epochs,epoch_loss,epoch_acc*100))     \n",
        "  Train_loss.append(train_loss)  #Saving the loss for diffrent batch size for plotting the graph\n",
        "  Train_acc.append(train_acc) \n",
        "  train_loss = []\n",
        "  train_acc = []              "
      ],
      "execution_count": null,
      "outputs": [
        {
          "output_type": "stream",
          "text": [
            "For Batchsize: 64 and Neural Network net 1\n",
            "Epoch 1/50 : Training loss: 0.0350 | Training Accuracy: 98.9433\n",
            "Epoch 2/50 : Training loss: 0.0309 | Training Accuracy: 99.0650\n",
            "Epoch 3/50 : Training loss: 0.0287 | Training Accuracy: 99.1600\n",
            "Epoch 4/50 : Training loss: 0.0268 | Training Accuracy: 99.1733\n",
            "Epoch 5/50 : Training loss: 0.0252 | Training Accuracy: 99.3067\n",
            "Epoch 6/50 : Training loss: 0.0234 | Training Accuracy: 99.3067\n",
            "Epoch 7/50 : Training loss: 0.0220 | Training Accuracy: 99.3533\n",
            "Epoch 8/50 : Training loss: 0.0207 | Training Accuracy: 99.4000\n",
            "Epoch 9/50 : Training loss: 0.0195 | Training Accuracy: 99.4200\n",
            "Epoch 10/50 : Training loss: 0.0187 | Training Accuracy: 99.4400\n",
            "Epoch 11/50 : Training loss: 0.0174 | Training Accuracy: 99.4950\n",
            "Epoch 12/50 : Training loss: 0.0166 | Training Accuracy: 99.5267\n",
            "Epoch 13/50 : Training loss: 0.0156 | Training Accuracy: 99.5267\n",
            "Epoch 14/50 : Training loss: 0.0149 | Training Accuracy: 99.5583\n",
            "Epoch 15/50 : Training loss: 0.0142 | Training Accuracy: 99.5867\n",
            "Epoch 16/50 : Training loss: 0.0132 | Training Accuracy: 99.6333\n",
            "Epoch 17/50 : Training loss: 0.0125 | Training Accuracy: 99.6450\n",
            "Epoch 18/50 : Training loss: 0.0117 | Training Accuracy: 99.6883\n",
            "Epoch 19/50 : Training loss: 0.0112 | Training Accuracy: 99.6833\n",
            "Epoch 20/50 : Training loss: 0.0106 | Training Accuracy: 99.7000\n",
            "Epoch 21/50 : Training loss: 0.0098 | Training Accuracy: 99.7367\n",
            "Epoch 22/50 : Training loss: 0.0096 | Training Accuracy: 99.7333\n",
            "Epoch 23/50 : Training loss: 0.0088 | Training Accuracy: 99.7817\n",
            "Epoch 24/50 : Training loss: 0.0081 | Training Accuracy: 99.8100\n",
            "Epoch 25/50 : Training loss: 0.0080 | Training Accuracy: 99.7683\n",
            "Epoch 26/50 : Training loss: 0.0073 | Training Accuracy: 99.8283\n",
            "Epoch 27/50 : Training loss: 0.0070 | Training Accuracy: 99.8250\n",
            "Epoch 28/50 : Training loss: 0.0066 | Training Accuracy: 99.8350\n",
            "Epoch 29/50 : Training loss: 0.0061 | Training Accuracy: 99.8467\n",
            "Epoch 30/50 : Training loss: 0.0062 | Training Accuracy: 99.8367\n",
            "Epoch 31/50 : Training loss: 0.0054 | Training Accuracy: 99.8750\n",
            "Epoch 32/50 : Training loss: 0.0052 | Training Accuracy: 99.8700\n",
            "Epoch 33/50 : Training loss: 0.0046 | Training Accuracy: 99.8967\n",
            "Epoch 34/50 : Training loss: 0.0044 | Training Accuracy: 99.9183\n",
            "Epoch 35/50 : Training loss: 0.0043 | Training Accuracy: 99.9033\n",
            "Epoch 36/50 : Training loss: 0.0040 | Training Accuracy: 99.9100\n",
            "Epoch 37/50 : Training loss: 0.0036 | Training Accuracy: 99.9233\n",
            "Epoch 38/50 : Training loss: 0.0036 | Training Accuracy: 99.9217\n",
            "Epoch 39/50 : Training loss: 0.0033 | Training Accuracy: 99.9267\n",
            "Epoch 40/50 : Training loss: 0.0032 | Training Accuracy: 99.9267\n",
            "Epoch 41/50 : Training loss: 0.0027 | Training Accuracy: 99.9483\n",
            "Epoch 42/50 : Training loss: 0.0031 | Training Accuracy: 99.9233\n",
            "Epoch 43/50 : Training loss: 0.0024 | Training Accuracy: 99.9517\n",
            "Epoch 44/50 : Training loss: 0.0023 | Training Accuracy: 99.9583\n",
            "Epoch 45/50 : Training loss: 0.0022 | Training Accuracy: 99.9617\n",
            "Epoch 46/50 : Training loss: 0.0020 | Training Accuracy: 99.9600\n",
            "Epoch 47/50 : Training loss: 0.0021 | Training Accuracy: 99.9517\n",
            "Epoch 48/50 : Training loss: 0.0018 | Training Accuracy: 99.9600\n",
            "Epoch 49/50 : Training loss: 0.0017 | Training Accuracy: 99.9583\n",
            "Epoch 50/50 : Training loss: 0.0017 | Training Accuracy: 99.9617\n",
            "For Batchsize: 128 and Neural Network net 2\n",
            "Epoch 1/50 : Training loss: 1.1349 | Training Accuracy: 67.9933\n",
            "Epoch 2/50 : Training loss: 0.3713 | Training Accuracy: 89.2833\n",
            "Epoch 3/50 : Training loss: 0.2827 | Training Accuracy: 91.6000\n",
            "Epoch 4/50 : Training loss: 0.2312 | Training Accuracy: 93.0933\n",
            "Epoch 5/50 : Training loss: 0.1930 | Training Accuracy: 94.1483\n",
            "Epoch 6/50 : Training loss: 0.1655 | Training Accuracy: 95.0900\n",
            "Epoch 7/50 : Training loss: 0.1462 | Training Accuracy: 95.5833\n",
            "Epoch 8/50 : Training loss: 0.1318 | Training Accuracy: 95.9817\n",
            "Epoch 9/50 : Training loss: 0.1196 | Training Accuracy: 96.3367\n",
            "Epoch 10/50 : Training loss: 0.1093 | Training Accuracy: 96.6850\n",
            "Epoch 11/50 : Training loss: 0.1025 | Training Accuracy: 96.8500\n",
            "Epoch 12/50 : Training loss: 0.0969 | Training Accuracy: 97.0867\n",
            "Epoch 13/50 : Training loss: 0.0903 | Training Accuracy: 97.2217\n",
            "Epoch 14/50 : Training loss: 0.0857 | Training Accuracy: 97.3100\n",
            "Epoch 15/50 : Training loss: 0.0818 | Training Accuracy: 97.5150\n",
            "Epoch 16/50 : Training loss: 0.0774 | Training Accuracy: 97.6250\n",
            "Epoch 17/50 : Training loss: 0.0742 | Training Accuracy: 97.7650\n",
            "Epoch 18/50 : Training loss: 0.0714 | Training Accuracy: 97.8100\n",
            "Epoch 19/50 : Training loss: 0.0689 | Training Accuracy: 97.8517\n",
            "Epoch 20/50 : Training loss: 0.0663 | Training Accuracy: 97.9667\n",
            "Epoch 21/50 : Training loss: 0.0641 | Training Accuracy: 98.0000\n",
            "Epoch 22/50 : Training loss: 0.0615 | Training Accuracy: 98.0867\n",
            "Epoch 23/50 : Training loss: 0.0592 | Training Accuracy: 98.1733\n",
            "Epoch 24/50 : Training loss: 0.0570 | Training Accuracy: 98.2267\n",
            "Epoch 25/50 : Training loss: 0.0550 | Training Accuracy: 98.2867\n",
            "Epoch 26/50 : Training loss: 0.0527 | Training Accuracy: 98.3900\n",
            "Epoch 27/50 : Training loss: 0.0514 | Training Accuracy: 98.4133\n",
            "Epoch 28/50 : Training loss: 0.0500 | Training Accuracy: 98.4717\n",
            "Epoch 29/50 : Training loss: 0.0486 | Training Accuracy: 98.4817\n",
            "Epoch 30/50 : Training loss: 0.0464 | Training Accuracy: 98.5850\n",
            "Epoch 31/50 : Training loss: 0.0448 | Training Accuracy: 98.5767\n",
            "Epoch 32/50 : Training loss: 0.0441 | Training Accuracy: 98.6117\n",
            "Epoch 33/50 : Training loss: 0.0426 | Training Accuracy: 98.6667\n",
            "Epoch 34/50 : Training loss: 0.0418 | Training Accuracy: 98.6667\n",
            "Epoch 35/50 : Training loss: 0.0400 | Training Accuracy: 98.7367\n",
            "Epoch 36/50 : Training loss: 0.0388 | Training Accuracy: 98.7400\n",
            "Epoch 37/50 : Training loss: 0.0379 | Training Accuracy: 98.8167\n",
            "Epoch 38/50 : Training loss: 0.0365 | Training Accuracy: 98.8517\n",
            "Epoch 39/50 : Training loss: 0.0356 | Training Accuracy: 98.9033\n",
            "Epoch 40/50 : Training loss: 0.0349 | Training Accuracy: 98.9150\n",
            "Epoch 41/50 : Training loss: 0.0337 | Training Accuracy: 98.9383\n",
            "Epoch 42/50 : Training loss: 0.0332 | Training Accuracy: 98.9750\n",
            "Epoch 43/50 : Training loss: 0.0319 | Training Accuracy: 98.9983\n",
            "Epoch 44/50 : Training loss: 0.0305 | Training Accuracy: 99.0517\n",
            "Epoch 45/50 : Training loss: 0.0303 | Training Accuracy: 99.0533\n",
            "Epoch 46/50 : Training loss: 0.0297 | Training Accuracy: 99.0567\n",
            "Epoch 47/50 : Training loss: 0.0286 | Training Accuracy: 99.1283\n",
            "Epoch 48/50 : Training loss: 0.0276 | Training Accuracy: 99.1450\n",
            "Epoch 49/50 : Training loss: 0.0270 | Training Accuracy: 99.1683\n",
            "Epoch 50/50 : Training loss: 0.0255 | Training Accuracy: 99.1867\n",
            "For Batchsize: 256 and Neural Network net 3\n",
            "Epoch 1/50 : Training loss: 1.7189 | Training Accuracy: 55.6383\n",
            "Epoch 2/50 : Training loss: 0.4787 | Training Accuracy: 86.7983\n",
            "Epoch 3/50 : Training loss: 0.3274 | Training Accuracy: 90.4383\n",
            "Epoch 4/50 : Training loss: 0.2716 | Training Accuracy: 91.9850\n",
            "Epoch 5/50 : Training loss: 0.2344 | Training Accuracy: 93.0067\n",
            "Epoch 6/50 : Training loss: 0.2057 | Training Accuracy: 93.9267\n",
            "Epoch 7/50 : Training loss: 0.1826 | Training Accuracy: 94.5417\n",
            "Epoch 8/50 : Training loss: 0.1637 | Training Accuracy: 95.1000\n",
            "Epoch 9/50 : Training loss: 0.1474 | Training Accuracy: 95.6283\n",
            "Epoch 10/50 : Training loss: 0.1348 | Training Accuracy: 96.0150\n",
            "Epoch 11/50 : Training loss: 0.1232 | Training Accuracy: 96.3567\n",
            "Epoch 12/50 : Training loss: 0.1149 | Training Accuracy: 96.5750\n",
            "Epoch 13/50 : Training loss: 0.1069 | Training Accuracy: 96.7950\n",
            "Epoch 14/50 : Training loss: 0.1003 | Training Accuracy: 96.9867\n",
            "Epoch 15/50 : Training loss: 0.0942 | Training Accuracy: 97.1983\n",
            "Epoch 16/50 : Training loss: 0.0895 | Training Accuracy: 97.3133\n",
            "Epoch 17/50 : Training loss: 0.0842 | Training Accuracy: 97.4133\n",
            "Epoch 18/50 : Training loss: 0.0805 | Training Accuracy: 97.5433\n",
            "Epoch 19/50 : Training loss: 0.0773 | Training Accuracy: 97.6833\n",
            "Epoch 20/50 : Training loss: 0.0738 | Training Accuracy: 97.7667\n",
            "Epoch 21/50 : Training loss: 0.0708 | Training Accuracy: 97.8550\n",
            "Epoch 22/50 : Training loss: 0.0683 | Training Accuracy: 97.9317\n",
            "Epoch 23/50 : Training loss: 0.0661 | Training Accuracy: 97.9967\n",
            "Epoch 24/50 : Training loss: 0.0634 | Training Accuracy: 98.1167\n",
            "Epoch 25/50 : Training loss: 0.0614 | Training Accuracy: 98.1533\n",
            "Epoch 26/50 : Training loss: 0.0599 | Training Accuracy: 98.2117\n",
            "Epoch 27/50 : Training loss: 0.0572 | Training Accuracy: 98.3150\n",
            "Epoch 28/50 : Training loss: 0.0557 | Training Accuracy: 98.3200\n",
            "Epoch 29/50 : Training loss: 0.0540 | Training Accuracy: 98.3933\n",
            "Epoch 30/50 : Training loss: 0.0533 | Training Accuracy: 98.4100\n",
            "Epoch 31/50 : Training loss: 0.0516 | Training Accuracy: 98.4350\n",
            "Epoch 32/50 : Training loss: 0.0497 | Training Accuracy: 98.4950\n",
            "Epoch 33/50 : Training loss: 0.0489 | Training Accuracy: 98.5450\n",
            "Epoch 34/50 : Training loss: 0.0478 | Training Accuracy: 98.5717\n",
            "Epoch 35/50 : Training loss: 0.0462 | Training Accuracy: 98.6050\n",
            "Epoch 36/50 : Training loss: 0.0459 | Training Accuracy: 98.6117\n",
            "Epoch 37/50 : Training loss: 0.0444 | Training Accuracy: 98.6917\n",
            "Epoch 38/50 : Training loss: 0.0432 | Training Accuracy: 98.6567\n",
            "Epoch 39/50 : Training loss: 0.0419 | Training Accuracy: 98.7500\n",
            "Epoch 40/50 : Training loss: 0.0409 | Training Accuracy: 98.8033\n",
            "Epoch 41/50 : Training loss: 0.0404 | Training Accuracy: 98.7633\n",
            "Epoch 42/50 : Training loss: 0.0391 | Training Accuracy: 98.8017\n",
            "Epoch 43/50 : Training loss: 0.0390 | Training Accuracy: 98.7950\n",
            "Epoch 44/50 : Training loss: 0.0380 | Training Accuracy: 98.8433\n",
            "Epoch 45/50 : Training loss: 0.0371 | Training Accuracy: 98.9033\n",
            "Epoch 46/50 : Training loss: 0.0357 | Training Accuracy: 98.8917\n",
            "Epoch 47/50 : Training loss: 0.0355 | Training Accuracy: 98.9283\n",
            "Epoch 48/50 : Training loss: 0.0343 | Training Accuracy: 98.9850\n",
            "Epoch 49/50 : Training loss: 0.0336 | Training Accuracy: 98.9950\n",
            "Epoch 50/50 : Training loss: 0.0329 | Training Accuracy: 99.0033\n",
            "For Batchsize: 512 and Neural Network net 4\n",
            "Epoch 1/50 : Training loss: 2.1065 | Training Accuracy: 43.5067\n",
            "Epoch 2/50 : Training loss: 0.9095 | Training Accuracy: 79.2450\n",
            "Epoch 3/50 : Training loss: 0.4647 | Training Accuracy: 86.9900\n",
            "Epoch 4/50 : Training loss: 0.3672 | Training Accuracy: 89.4083\n",
            "Epoch 5/50 : Training loss: 0.3132 | Training Accuracy: 90.8300\n",
            "Epoch 6/50 : Training loss: 0.2755 | Training Accuracy: 91.8933\n",
            "Epoch 7/50 : Training loss: 0.2472 | Training Accuracy: 92.7483\n",
            "Epoch 8/50 : Training loss: 0.2235 | Training Accuracy: 93.4500\n",
            "Epoch 9/50 : Training loss: 0.2022 | Training Accuracy: 94.0317\n",
            "Epoch 10/50 : Training loss: 0.1856 | Training Accuracy: 94.5067\n",
            "Epoch 11/50 : Training loss: 0.1713 | Training Accuracy: 94.9417\n",
            "Epoch 12/50 : Training loss: 0.1595 | Training Accuracy: 95.2950\n",
            "Epoch 13/50 : Training loss: 0.1478 | Training Accuracy: 95.6583\n",
            "Epoch 14/50 : Training loss: 0.1380 | Training Accuracy: 95.9967\n",
            "Epoch 15/50 : Training loss: 0.1298 | Training Accuracy: 96.1150\n",
            "Epoch 16/50 : Training loss: 0.1225 | Training Accuracy: 96.3867\n",
            "Epoch 17/50 : Training loss: 0.1159 | Training Accuracy: 96.5350\n",
            "Epoch 18/50 : Training loss: 0.1110 | Training Accuracy: 96.6717\n",
            "Epoch 19/50 : Training loss: 0.1050 | Training Accuracy: 96.8850\n",
            "Epoch 20/50 : Training loss: 0.1019 | Training Accuracy: 96.9433\n",
            "Epoch 21/50 : Training loss: 0.0963 | Training Accuracy: 97.1217\n",
            "Epoch 22/50 : Training loss: 0.0930 | Training Accuracy: 97.1917\n",
            "Epoch 23/50 : Training loss: 0.0904 | Training Accuracy: 97.2717\n",
            "Epoch 24/50 : Training loss: 0.0867 | Training Accuracy: 97.3983\n",
            "Epoch 25/50 : Training loss: 0.0840 | Training Accuracy: 97.4833\n",
            "Epoch 26/50 : Training loss: 0.0811 | Training Accuracy: 97.5300\n",
            "Epoch 27/50 : Training loss: 0.0792 | Training Accuracy: 97.5817\n",
            "Epoch 28/50 : Training loss: 0.0766 | Training Accuracy: 97.6483\n",
            "Epoch 29/50 : Training loss: 0.0749 | Training Accuracy: 97.7767\n",
            "Epoch 30/50 : Training loss: 0.0726 | Training Accuracy: 97.7833\n",
            "Epoch 31/50 : Training loss: 0.0706 | Training Accuracy: 97.8267\n",
            "Epoch 32/50 : Training loss: 0.0694 | Training Accuracy: 97.8717\n",
            "Epoch 33/50 : Training loss: 0.0678 | Training Accuracy: 97.9267\n",
            "Epoch 34/50 : Training loss: 0.0666 | Training Accuracy: 97.9667\n",
            "Epoch 35/50 : Training loss: 0.0638 | Training Accuracy: 98.0467\n",
            "Epoch 36/50 : Training loss: 0.0626 | Training Accuracy: 98.0733\n",
            "Epoch 37/50 : Training loss: 0.0619 | Training Accuracy: 98.1133\n",
            "Epoch 38/50 : Training loss: 0.0601 | Training Accuracy: 98.1650\n",
            "Epoch 39/50 : Training loss: 0.0589 | Training Accuracy: 98.2150\n",
            "Epoch 40/50 : Training loss: 0.0589 | Training Accuracy: 98.1917\n",
            "Epoch 41/50 : Training loss: 0.0575 | Training Accuracy: 98.2233\n",
            "Epoch 42/50 : Training loss: 0.0556 | Training Accuracy: 98.3083\n",
            "Epoch 43/50 : Training loss: 0.0553 | Training Accuracy: 98.2667\n",
            "Epoch 44/50 : Training loss: 0.0544 | Training Accuracy: 98.3017\n",
            "Epoch 45/50 : Training loss: 0.0531 | Training Accuracy: 98.3450\n",
            "Epoch 46/50 : Training loss: 0.0527 | Training Accuracy: 98.3867\n",
            "Epoch 47/50 : Training loss: 0.0513 | Training Accuracy: 98.4200\n",
            "Epoch 48/50 : Training loss: 0.0505 | Training Accuracy: 98.4867\n",
            "Epoch 49/50 : Training loss: 0.0501 | Training Accuracy: 98.4883\n",
            "Epoch 50/50 : Training loss: 0.0487 | Training Accuracy: 98.5183\n",
            "For Batchsize: 1024 and Neural Network net 5\n",
            "Epoch 1/50 : Training loss: 2.2811 | Training Accuracy: 16.3083\n",
            "Epoch 2/50 : Training loss: 2.0918 | Training Accuracy: 52.5733\n",
            "Epoch 3/50 : Training loss: 1.3964 | Training Accuracy: 68.8300\n",
            "Epoch 4/50 : Training loss: 0.7994 | Training Accuracy: 78.6533\n",
            "Epoch 5/50 : Training loss: 0.5830 | Training Accuracy: 83.3317\n",
            "Epoch 6/50 : Training loss: 0.4884 | Training Accuracy: 85.7700\n",
            "Epoch 7/50 : Training loss: 0.4313 | Training Accuracy: 87.3750\n",
            "Epoch 8/50 : Training loss: 0.3915 | Training Accuracy: 88.4850\n",
            "Epoch 9/50 : Training loss: 0.3600 | Training Accuracy: 89.4117\n",
            "Epoch 10/50 : Training loss: 0.3358 | Training Accuracy: 90.1217\n",
            "Epoch 11/50 : Training loss: 0.3157 | Training Accuracy: 90.6533\n",
            "Epoch 12/50 : Training loss: 0.2976 | Training Accuracy: 91.0667\n",
            "Epoch 13/50 : Training loss: 0.2826 | Training Accuracy: 91.6133\n",
            "Epoch 14/50 : Training loss: 0.2672 | Training Accuracy: 92.0567\n",
            "Epoch 15/50 : Training loss: 0.2543 | Training Accuracy: 92.4133\n",
            "Epoch 16/50 : Training loss: 0.2425 | Training Accuracy: 92.7683\n",
            "Epoch 17/50 : Training loss: 0.2313 | Training Accuracy: 93.0600\n",
            "Epoch 18/50 : Training loss: 0.2187 | Training Accuracy: 93.4533\n",
            "Epoch 19/50 : Training loss: 0.2089 | Training Accuracy: 93.7600\n",
            "Epoch 20/50 : Training loss: 0.1986 | Training Accuracy: 94.0833\n",
            "Epoch 21/50 : Training loss: 0.1884 | Training Accuracy: 94.3783\n",
            "Epoch 22/50 : Training loss: 0.1795 | Training Accuracy: 94.6733\n",
            "Epoch 23/50 : Training loss: 0.1713 | Training Accuracy: 94.8800\n",
            "Epoch 24/50 : Training loss: 0.1640 | Training Accuracy: 95.0617\n",
            "Epoch 25/50 : Training loss: 0.1567 | Training Accuracy: 95.2500\n",
            "Epoch 26/50 : Training loss: 0.1506 | Training Accuracy: 95.4233\n",
            "Epoch 27/50 : Training loss: 0.1448 | Training Accuracy: 95.6450\n",
            "Epoch 28/50 : Training loss: 0.1392 | Training Accuracy: 95.7500\n",
            "Epoch 29/50 : Training loss: 0.1342 | Training Accuracy: 95.9283\n",
            "Epoch 30/50 : Training loss: 0.1295 | Training Accuracy: 96.1017\n",
            "Epoch 31/50 : Training loss: 0.1258 | Training Accuracy: 96.1350\n",
            "Epoch 32/50 : Training loss: 0.1215 | Training Accuracy: 96.2883\n",
            "Epoch 33/50 : Training loss: 0.1180 | Training Accuracy: 96.4417\n",
            "Epoch 34/50 : Training loss: 0.1149 | Training Accuracy: 96.4983\n",
            "Epoch 35/50 : Training loss: 0.1113 | Training Accuracy: 96.6500\n",
            "Epoch 36/50 : Training loss: 0.1081 | Training Accuracy: 96.7167\n",
            "Epoch 37/50 : Training loss: 0.1060 | Training Accuracy: 96.7867\n",
            "Epoch 38/50 : Training loss: 0.1033 | Training Accuracy: 96.9017\n",
            "Epoch 39/50 : Training loss: 0.1008 | Training Accuracy: 96.9617\n",
            "Epoch 40/50 : Training loss: 0.0984 | Training Accuracy: 97.0350\n",
            "Epoch 41/50 : Training loss: 0.0968 | Training Accuracy: 97.1017\n",
            "Epoch 42/50 : Training loss: 0.0944 | Training Accuracy: 97.1850\n",
            "Epoch 43/50 : Training loss: 0.0918 | Training Accuracy: 97.2283\n",
            "Epoch 44/50 : Training loss: 0.0902 | Training Accuracy: 97.2817\n",
            "Epoch 45/50 : Training loss: 0.0884 | Training Accuracy: 97.3100\n",
            "Epoch 46/50 : Training loss: 0.0869 | Training Accuracy: 97.3917\n",
            "Epoch 47/50 : Training loss: 0.0849 | Training Accuracy: 97.4367\n",
            "Epoch 48/50 : Training loss: 0.0837 | Training Accuracy: 97.4617\n",
            "Epoch 49/50 : Training loss: 0.0822 | Training Accuracy: 97.5200\n",
            "Epoch 50/50 : Training loss: 0.0802 | Training Accuracy: 97.5500\n"
          ],
          "name": "stdout"
        }
      ]
    },
    {
      "cell_type": "code",
      "metadata": {
        "id": "apmP4KLlUfv4",
        "colab_type": "code",
        "colab": {
          "base_uri": "https://localhost:8080/",
          "height": 1000
        },
        "outputId": "d475d18e-9bc0-45d7-a912-96e247e23126"
      },
      "source": [
        "temp=[0,1,2,3,4]\n",
        "\n",
        "for j in temp:\n",
        "  title=\"For BatchSize:\"+ str(BatchSize[j])\n",
        "  fig = plt.figure(figsize=[15,5]) \n",
        "  plt.subplot(121)\n",
        "  plt.plot(range(num_epochs),Train_loss[j],'r-',label=title+ \" Loss\") \n",
        "  plt.legend(loc='upper right')\n",
        "  plt.xlabel('Epochs')\n",
        "  plt.ylabel('Training')\n",
        "  plt.subplot(122)\n",
        "  plt.plot(range(num_epochs),Train_acc[j],'g-',label=title+ ' Accuracy') \n",
        "  plt.legend(loc='upper right')\n",
        "  plt.xlabel('Epochs')\n",
        "  plt.ylabel('Training')"
      ],
      "execution_count": null,
      "outputs": [
        {
          "output_type": "display_data",
          "data": {
            "image/png": "[encoded data removed]",
            "text/plain": [
              "<Figure size 1080x360 with 2 Axes>"
            ]
          },
          "metadata": {
            "tags": []
          }
        },
        {
          "output_type": "display_data",
          "data": {
            "image/png": "[encoded data removed]",
            "text/plain": [
              "<Figure size 1080x360 with 2 Axes>"
            ]
          },
          "metadata": {
            "tags": []
          }
        },
        {
          "output_type": "display_data",
          "data": {
            "image/png": "[encoded data removed]",
            "text/plain": [
              "<Figure size 1080x360 with 2 Axes>"
            ]
          },
          "metadata": {
            "tags": []
          }
        },
        {
          "output_type": "display_data",
          "data": {
            "image/png": "[encoded data removed]",
            "text/plain": [
              "<Figure size 1080x360 with 2 Axes>"
            ]
          },
          "metadata": {
            "tags": []
          }
        },
        {
          "output_type": "display_data",
          "data": {
            "image/png": "[encoded data removed]",
            "text/plain": [
              "<Figure size 1080x360 with 2 Axes>"
            ]
          },
          "metadata": {
            "tags": []
          }
        }
      ]
    },
    {
      "cell_type": "markdown",
      "metadata": {
        "id": "pDulqo8SbUnR",
        "colab_type": "text"
      },
      "source": [
        "##Larger the Batch size, faster Network will Learn for fixed Learning rate"
      ]
    },
    {
      "cell_type": "markdown",
      "metadata": {
        "id": "oCabb314Ufv7",
        "colab_type": "text"
      },
      "source": [
        "### Evaluation of trained model"
      ]
    },
    {
      "cell_type": "code",
      "metadata": {
        "id": "p_tjhCCjUfv8",
        "colab_type": "code",
        "colab": {
          "base_uri": "https://localhost:8080/",
          "height": 187
        },
        "outputId": "38c91269-61f8-4543-f141-64c26682e9a0"
      },
      "source": [
        "correct_pred = 0\n",
        "for j in range(0,5):\n",
        "  print(\"For BatchSize:\"+ str(BatchSize[j]))\n",
        "  for data in testLoader[j]:\n",
        "      inputs,labels = data\n",
        "      if use_gpu:\n",
        "          inputs, labels = inputs.cuda(),labels.cuda()\n",
        "      # Feedforward train data batch through model\n",
        "      output = net[j](inputs) \n",
        "      # Predicted class is the one with maximum probability\n",
        "      preds = torch.argmax(output,dim=1)\n",
        "      correct_pred += torch.sum(preds==labels)\n",
        "\n",
        "  test_accuracy = correct_pred.item()/10000.0\n",
        "  print('Testing accuracy = ',test_accuracy*100)\n",
        "  correct_pred=0"
      ],
      "execution_count": null,
      "outputs": [
        {
          "output_type": "stream",
          "text": [
            "For BatchSize:64\n",
            "Testing accuracy =  99.11999999999999\n",
            "For BatchSize:128\n",
            "Testing accuracy =  98.72\n",
            "For BatchSize:256\n",
            "Testing accuracy =  98.88\n",
            "For BatchSize:512\n",
            "Testing accuracy =  98.4\n",
            "For BatchSize:1024\n",
            "Testing accuracy =  97.72999999999999\n"
          ],
          "name": "stdout"
        }
      ]
    },
    {
      "cell_type": "markdown",
      "metadata": {
        "id": "vFAHFpwDHpNB",
        "colab_type": "text"
      },
      "source": [
        "##AI61002_Spr2020\n",
        "##Tutorial 5: Training LeNet for Digit Recognition using ADAM\n",
        "##Part 2: Training error/ Accuracy vs Epoch with diffrent Learning Rate with fixed Batch Size =128\n"
      ]
    },
    {
      "cell_type": "code",
      "metadata": {
        "id": "WEfECiZxUfwA",
        "colab_type": "code",
        "colab": {}
      },
      "source": [
        "apply_transform = transforms.Compose([transforms.Resize(32), transforms.ToTensor()])\n",
        "BatchSize1 = 128 # change according to system specs\n",
        "\n",
        "trainset1 = datasets.MNIST(root='./MNIST', train=True, download=True, transform=apply_transform)\n",
        "trainLoader1 = torch.utils.data.DataLoader(trainset1, batch_size=BatchSize1,\n",
        "                                          shuffle=True, num_workers=4) # Creating dataloader\n",
        "\n",
        "# Validation set with random rotations in the range [-90,90]\n",
        "testset1 = datasets.MNIST(root='./MNIST', train=False, download=True, transform=apply_transform)\n",
        "testLoader1 = torch.utils.data.DataLoader(testset1, batch_size=BatchSize1,\n",
        "                                         shuffle=False, num_workers=4) # Creating dataloader"
      ],
      "execution_count": null,
      "outputs": []
    },
    {
      "cell_type": "code",
      "metadata": {
        "id": "woc32JL9IQTI",
        "colab_type": "code",
        "colab": {
          "base_uri": "https://localhost:8080/",
          "height": 51
        },
        "outputId": "533fc0bb-5296-4572-a42a-a9809c7d8024"
      },
      "source": [
        "# Size of train and test datasets\n",
        "print('No. of samples in train set: '+str(len(trainLoader1.dataset)))\n",
        "print('No. of samples in test set: '+str(len(testLoader1.dataset)))"
      ],
      "execution_count": null,
      "outputs": [
        {
          "output_type": "stream",
          "text": [
            "No. of samples in train set: 60000\n",
            "No. of samples in test set: 10000\n"
          ],
          "name": "stdout"
        }
      ]
    },
    {
      "cell_type": "code",
      "metadata": {
        "id": "Ixdcq_zrIU-G",
        "colab_type": "code",
        "colab": {
          "base_uri": "https://localhost:8080/",
          "height": 578
        },
        "outputId": "519dec01-b2bb-4499-8b3d-6b0a0d7a4028"
      },
      "source": [
        "use_gpu = torch.cuda.is_available()\n",
        "net6 = LeNet()\n",
        "net7 = LeNet()\n",
        "net8 = LeNet()          #5 net defined for 5 diffrent Learning Rate\n",
        "net9 = LeNet()\n",
        "Net=[net6, net7, net8, net9]\n",
        "print(Net)"
      ],
      "execution_count": null,
      "outputs": [
        {
          "output_type": "stream",
          "text": [
            "[LeNet(\n",
            "  (conv1): Conv2d(1, 6, kernel_size=(5, 5), stride=(1, 1))\n",
            "  (pool1): MaxPool2d(kernel_size=2, stride=2, padding=0, dilation=1, ceil_mode=False)\n",
            "  (conv2): Conv2d(6, 16, kernel_size=(5, 5), stride=(1, 1))\n",
            "  (pool2): MaxPool2d(kernel_size=2, stride=2, padding=0, dilation=1, ceil_mode=False)\n",
            "  (fc1): Linear(in_features=400, out_features=120, bias=True)\n",
            "  (fc2): Linear(in_features=120, out_features=84, bias=True)\n",
            "  (fc3): Linear(in_features=84, out_features=10, bias=True)\n",
            "), LeNet(\n",
            "  (conv1): Conv2d(1, 6, kernel_size=(5, 5), stride=(1, 1))\n",
            "  (pool1): MaxPool2d(kernel_size=2, stride=2, padding=0, dilation=1, ceil_mode=False)\n",
            "  (conv2): Conv2d(6, 16, kernel_size=(5, 5), stride=(1, 1))\n",
            "  (pool2): MaxPool2d(kernel_size=2, stride=2, padding=0, dilation=1, ceil_mode=False)\n",
            "  (fc1): Linear(in_features=400, out_features=120, bias=True)\n",
            "  (fc2): Linear(in_features=120, out_features=84, bias=True)\n",
            "  (fc3): Linear(in_features=84, out_features=10, bias=True)\n",
            "), LeNet(\n",
            "  (conv1): Conv2d(1, 6, kernel_size=(5, 5), stride=(1, 1))\n",
            "  (pool1): MaxPool2d(kernel_size=2, stride=2, padding=0, dilation=1, ceil_mode=False)\n",
            "  (conv2): Conv2d(6, 16, kernel_size=(5, 5), stride=(1, 1))\n",
            "  (pool2): MaxPool2d(kernel_size=2, stride=2, padding=0, dilation=1, ceil_mode=False)\n",
            "  (fc1): Linear(in_features=400, out_features=120, bias=True)\n",
            "  (fc2): Linear(in_features=120, out_features=84, bias=True)\n",
            "  (fc3): Linear(in_features=84, out_features=10, bias=True)\n",
            "), LeNet(\n",
            "  (conv1): Conv2d(1, 6, kernel_size=(5, 5), stride=(1, 1))\n",
            "  (pool1): MaxPool2d(kernel_size=2, stride=2, padding=0, dilation=1, ceil_mode=False)\n",
            "  (conv2): Conv2d(6, 16, kernel_size=(5, 5), stride=(1, 1))\n",
            "  (pool2): MaxPool2d(kernel_size=2, stride=2, padding=0, dilation=1, ceil_mode=False)\n",
            "  (fc1): Linear(in_features=400, out_features=120, bias=True)\n",
            "  (fc2): Linear(in_features=120, out_features=84, bias=True)\n",
            "  (fc3): Linear(in_features=84, out_features=10, bias=True)\n",
            ")]\n"
          ],
          "name": "stdout"
        }
      ]
    },
    {
      "cell_type": "code",
      "metadata": {
        "id": "pGsDbmLfLmWW",
        "colab_type": "code",
        "colab": {
          "base_uri": "https://localhost:8080/",
          "height": 1000
        },
        "outputId": "b3d62b0e-33d7-4b03-d914-89338bcd70bf"
      },
      "source": [
        "learning_rate = [0.0005,0.001, 0.005, 0.01]\n",
        "num_epochs1 = 50\n",
        "import torch.optim as optim\n",
        "criterion = nn.CrossEntropyLoss() \n",
        "\n",
        "\n",
        "train_loss1 = []\n",
        "train_acc1 = []\n",
        "Train_loss1 = []\n",
        "Train_acc1 = []\n",
        "for m in range(0,4):\n",
        "  print(\"For Learning Rate: \"+ str(learning_rate[m]) +\" and Neural Network net \"+ str(m+1) )\n",
        "  optimizer = optim.Adam(Net[m].parameters(),lr=learning_rate[m])\n",
        "  for epoch in range(num_epochs1):\n",
        "      \n",
        "      running_loss = 0.0 \n",
        "      running_corr = 0\n",
        "          \n",
        "      for i,data in enumerate(trainLoader1):\n",
        "          inputs,labels = data\n",
        "          if use_gpu:\n",
        "              inputs, labels = inputs.cuda(),labels.cuda() \n",
        "          # Initializing model gradients to zero\n",
        "          #net.zero_grad()\n",
        "          optimizer.zero_grad() \n",
        "          # Data feed-forward through the network\n",
        "          outputs = Net[m](inputs)\n",
        "          # Predicted class is the one with maximum probability\n",
        "          preds = torch.argmax(outputs,dim=1)\n",
        "          # Finding the loss\n",
        "          loss = criterion(outputs, labels)\n",
        "          # Accumulating the loss for each batch\n",
        "          running_loss += loss \n",
        "          # Accumulate number of correct predictions\n",
        "          running_corr += torch.sum(preds==labels)   \n",
        "\n",
        "          \n",
        "          \n",
        "          #totalLoss = running_loss/(i+1)\n",
        "          # Calculating gradients\n",
        "          loss.backward()\n",
        "          # Updating the model parameters\n",
        "          optimizer.step()\n",
        "          #for f in net.parameters():\n",
        "          #   f.data.sub_(f.grad.data * learning_rate)\n",
        "          \n",
        "      epoch_loss1 = running_loss.item()/(i+1)   #Total loss for one epoch\n",
        "      epoch_acc1 = running_corr.item()/60000\n",
        "      \n",
        "      \n",
        "          \n",
        "      train_loss1.append(epoch_loss1) #Saving the loss over epochs for plotting the graph\n",
        "      train_acc1.append(epoch_acc1) #Saving the accuracy over epochs for plotting the graph\n",
        "        \n",
        "          \n",
        "      print('Epoch {:.0f}/{:.0f} : Training loss: {:.4f} | Training Accuracy: {:.4f}'.format(epoch+1,num_epochs1,epoch_loss1,epoch_acc1*100)) \n",
        "  Train_loss1.append(train_loss1)  #Saving the loss for diffrent learning rate for plotting the graph\n",
        "  Train_acc1.append(train_acc1) \n",
        "  train_loss1 = []\n",
        "  train_acc1 = []"
      ],
      "execution_count": null,
      "outputs": [
        {
          "output_type": "stream",
          "text": [
            "For Learning Rate: 0.0005 and Neural Network net 1\n",
            "Epoch 1/50 : Training loss: 0.5241 | Training Accuracy: 84.3550\n",
            "Epoch 2/50 : Training loss: 0.1450 | Training Accuracy: 95.6267\n",
            "Epoch 3/50 : Training loss: 0.0948 | Training Accuracy: 97.1317\n",
            "Epoch 4/50 : Training loss: 0.0745 | Training Accuracy: 97.7417\n",
            "Epoch 5/50 : Training loss: 0.0614 | Training Accuracy: 98.1267\n",
            "Epoch 6/50 : Training loss: 0.0540 | Training Accuracy: 98.3100\n",
            "Epoch 7/50 : Training loss: 0.0481 | Training Accuracy: 98.5400\n",
            "Epoch 8/50 : Training loss: 0.0418 | Training Accuracy: 98.7450\n",
            "Epoch 9/50 : Training loss: 0.0369 | Training Accuracy: 98.8283\n",
            "Epoch 10/50 : Training loss: 0.0337 | Training Accuracy: 98.9283\n",
            "Epoch 11/50 : Training loss: 0.0296 | Training Accuracy: 99.0983\n",
            "Epoch 12/50 : Training loss: 0.0274 | Training Accuracy: 99.1517\n",
            "Epoch 13/50 : Training loss: 0.0256 | Training Accuracy: 99.1733\n",
            "Epoch 14/50 : Training loss: 0.0236 | Training Accuracy: 99.2700\n",
            "Epoch 15/50 : Training loss: 0.0219 | Training Accuracy: 99.2883\n",
            "Epoch 16/50 : Training loss: 0.0195 | Training Accuracy: 99.3783\n",
            "Epoch 17/50 : Training loss: 0.0174 | Training Accuracy: 99.4317\n",
            "Epoch 18/50 : Training loss: 0.0158 | Training Accuracy: 99.4800\n",
            "Epoch 19/50 : Training loss: 0.0141 | Training Accuracy: 99.5500\n",
            "Epoch 20/50 : Training loss: 0.0132 | Training Accuracy: 99.5800\n",
            "Epoch 21/50 : Training loss: 0.0125 | Training Accuracy: 99.5883\n",
            "Epoch 22/50 : Training loss: 0.0106 | Training Accuracy: 99.6533\n",
            "Epoch 23/50 : Training loss: 0.0109 | Training Accuracy: 99.6417\n",
            "Epoch 24/50 : Training loss: 0.0101 | Training Accuracy: 99.6783\n",
            "Epoch 25/50 : Training loss: 0.0090 | Training Accuracy: 99.7050\n",
            "Epoch 26/50 : Training loss: 0.0080 | Training Accuracy: 99.7350\n",
            "Epoch 27/50 : Training loss: 0.0072 | Training Accuracy: 99.7500\n",
            "Epoch 28/50 : Training loss: 0.0072 | Training Accuracy: 99.7483\n",
            "Epoch 29/50 : Training loss: 0.0062 | Training Accuracy: 99.8033\n",
            "Epoch 30/50 : Training loss: 0.0061 | Training Accuracy: 99.7917\n",
            "Epoch 31/50 : Training loss: 0.0066 | Training Accuracy: 99.7783\n",
            "Epoch 32/50 : Training loss: 0.0052 | Training Accuracy: 99.8250\n",
            "Epoch 33/50 : Training loss: 0.0062 | Training Accuracy: 99.7667\n",
            "Epoch 34/50 : Training loss: 0.0045 | Training Accuracy: 99.8500\n",
            "Epoch 35/50 : Training loss: 0.0042 | Training Accuracy: 99.8600\n",
            "Epoch 36/50 : Training loss: 0.0052 | Training Accuracy: 99.8217\n",
            "Epoch 37/50 : Training loss: 0.0038 | Training Accuracy: 99.8717\n",
            "Epoch 38/50 : Training loss: 0.0065 | Training Accuracy: 99.7800\n",
            "Epoch 39/50 : Training loss: 0.0036 | Training Accuracy: 99.8700\n",
            "Epoch 40/50 : Training loss: 0.0029 | Training Accuracy: 99.8983\n",
            "Epoch 41/50 : Training loss: 0.0027 | Training Accuracy: 99.9067\n",
            "Epoch 42/50 : Training loss: 0.0058 | Training Accuracy: 99.7850\n",
            "Epoch 43/50 : Training loss: 0.0039 | Training Accuracy: 99.8700\n",
            "Epoch 44/50 : Training loss: 0.0046 | Training Accuracy: 99.8483\n",
            "Epoch 45/50 : Training loss: 0.0017 | Training Accuracy: 99.9433\n",
            "Epoch 46/50 : Training loss: 0.0032 | Training Accuracy: 99.8950\n",
            "Epoch 47/50 : Training loss: 0.0049 | Training Accuracy: 99.8233\n",
            "Epoch 48/50 : Training loss: 0.0035 | Training Accuracy: 99.8700\n",
            "Epoch 49/50 : Training loss: 0.0030 | Training Accuracy: 99.9050\n",
            "Epoch 50/50 : Training loss: 0.0007 | Training Accuracy: 99.9833\n",
            "For Learning Rate: 0.001 and Neural Network net 2\n",
            "Epoch 1/50 : Training loss: 0.3868 | Training Accuracy: 88.3283\n",
            "Epoch 2/50 : Training loss: 0.0930 | Training Accuracy: 97.1667\n",
            "Epoch 3/50 : Training loss: 0.0638 | Training Accuracy: 98.0117\n",
            "Epoch 4/50 : Training loss: 0.0491 | Training Accuracy: 98.4683\n",
            "Epoch 5/50 : Training loss: 0.0405 | Training Accuracy: 98.7467\n",
            "Epoch 6/50 : Training loss: 0.0348 | Training Accuracy: 98.9200\n",
            "Epoch 7/50 : Training loss: 0.0302 | Training Accuracy: 99.0550\n",
            "Epoch 8/50 : Training loss: 0.0259 | Training Accuracy: 99.1900\n",
            "Epoch 9/50 : Training loss: 0.0228 | Training Accuracy: 99.2883\n",
            "Epoch 10/50 : Training loss: 0.0191 | Training Accuracy: 99.4217\n",
            "Epoch 11/50 : Training loss: 0.0167 | Training Accuracy: 99.4383\n",
            "Epoch 12/50 : Training loss: 0.0151 | Training Accuracy: 99.5333\n",
            "Epoch 13/50 : Training loss: 0.0141 | Training Accuracy: 99.5317\n",
            "Epoch 14/50 : Training loss: 0.0126 | Training Accuracy: 99.6117\n",
            "Epoch 15/50 : Training loss: 0.0121 | Training Accuracy: 99.5933\n",
            "Epoch 16/50 : Training loss: 0.0097 | Training Accuracy: 99.6783\n",
            "Epoch 17/50 : Training loss: 0.0097 | Training Accuracy: 99.6933\n",
            "Epoch 18/50 : Training loss: 0.0086 | Training Accuracy: 99.7000\n",
            "Epoch 19/50 : Training loss: 0.0076 | Training Accuracy: 99.7400\n",
            "Epoch 20/50 : Training loss: 0.0062 | Training Accuracy: 99.8000\n",
            "Epoch 21/50 : Training loss: 0.0072 | Training Accuracy: 99.7583\n",
            "Epoch 22/50 : Training loss: 0.0069 | Training Accuracy: 99.7717\n",
            "Epoch 23/50 : Training loss: 0.0060 | Training Accuracy: 99.7833\n",
            "Epoch 24/50 : Training loss: 0.0054 | Training Accuracy: 99.8117\n",
            "Epoch 25/50 : Training loss: 0.0050 | Training Accuracy: 99.8233\n",
            "Epoch 26/50 : Training loss: 0.0058 | Training Accuracy: 99.8200\n",
            "Epoch 27/50 : Training loss: 0.0048 | Training Accuracy: 99.8367\n",
            "Epoch 28/50 : Training loss: 0.0062 | Training Accuracy: 99.7967\n",
            "Epoch 29/50 : Training loss: 0.0042 | Training Accuracy: 99.8517\n",
            "Epoch 30/50 : Training loss: 0.0038 | Training Accuracy: 99.8717\n",
            "Epoch 31/50 : Training loss: 0.0040 | Training Accuracy: 99.8633\n",
            "Epoch 32/50 : Training loss: 0.0054 | Training Accuracy: 99.8233\n",
            "Epoch 33/50 : Training loss: 0.0036 | Training Accuracy: 99.8867\n",
            "Epoch 34/50 : Training loss: 0.0032 | Training Accuracy: 99.8900\n",
            "Epoch 35/50 : Training loss: 0.0046 | Training Accuracy: 99.8467\n",
            "Epoch 36/50 : Training loss: 0.0038 | Training Accuracy: 99.8883\n",
            "Epoch 37/50 : Training loss: 0.0037 | Training Accuracy: 99.8750\n",
            "Epoch 38/50 : Training loss: 0.0019 | Training Accuracy: 99.9433\n",
            "Epoch 39/50 : Training loss: 0.0035 | Training Accuracy: 99.8867\n",
            "Epoch 40/50 : Training loss: 0.0024 | Training Accuracy: 99.9133\n",
            "Epoch 41/50 : Training loss: 0.0057 | Training Accuracy: 99.8300\n",
            "Epoch 42/50 : Training loss: 0.0028 | Training Accuracy: 99.9067\n",
            "Epoch 43/50 : Training loss: 0.0015 | Training Accuracy: 99.9500\n",
            "Epoch 44/50 : Training loss: 0.0064 | Training Accuracy: 99.8033\n",
            "Epoch 45/50 : Training loss: 0.0019 | Training Accuracy: 99.9350\n",
            "Epoch 46/50 : Training loss: 0.0025 | Training Accuracy: 99.9083\n",
            "Epoch 47/50 : Training loss: 0.0023 | Training Accuracy: 99.9383\n",
            "Epoch 48/50 : Training loss: 0.0016 | Training Accuracy: 99.9450\n",
            "Epoch 49/50 : Training loss: 0.0015 | Training Accuracy: 99.9483\n",
            "Epoch 50/50 : Training loss: 0.0076 | Training Accuracy: 99.7933\n",
            "For Learning Rate: 0.005 and Neural Network net 3\n",
            "Epoch 1/50 : Training loss: 0.2154 | Training Accuracy: 93.1933\n",
            "Epoch 2/50 : Training loss: 0.0622 | Training Accuracy: 98.0800\n",
            "Epoch 3/50 : Training loss: 0.0453 | Training Accuracy: 98.5583\n",
            "Epoch 4/50 : Training loss: 0.0387 | Training Accuracy: 98.8233\n",
            "Epoch 5/50 : Training loss: 0.0344 | Training Accuracy: 98.9033\n",
            "Epoch 6/50 : Training loss: 0.0300 | Training Accuracy: 99.0917\n",
            "Epoch 7/50 : Training loss: 0.0270 | Training Accuracy: 99.1800\n",
            "Epoch 8/50 : Training loss: 0.0231 | Training Accuracy: 99.2900\n",
            "Epoch 9/50 : Training loss: 0.0253 | Training Accuracy: 99.2367\n",
            "Epoch 10/50 : Training loss: 0.0217 | Training Accuracy: 99.3900\n",
            "Epoch 11/50 : Training loss: 0.0210 | Training Accuracy: 99.4183\n",
            "Epoch 12/50 : Training loss: 0.0216 | Training Accuracy: 99.3533\n",
            "Epoch 13/50 : Training loss: 0.0205 | Training Accuracy: 99.4000\n",
            "Epoch 14/50 : Training loss: 0.0190 | Training Accuracy: 99.4533\n",
            "Epoch 15/50 : Training loss: 0.0182 | Training Accuracy: 99.4767\n",
            "Epoch 16/50 : Training loss: 0.0175 | Training Accuracy: 99.4967\n",
            "Epoch 17/50 : Training loss: 0.0164 | Training Accuracy: 99.5517\n",
            "Epoch 18/50 : Training loss: 0.0153 | Training Accuracy: 99.5450\n",
            "Epoch 19/50 : Training loss: 0.0142 | Training Accuracy: 99.5983\n",
            "Epoch 20/50 : Training loss: 0.0136 | Training Accuracy: 99.6117\n",
            "Epoch 21/50 : Training loss: 0.0153 | Training Accuracy: 99.5783\n",
            "Epoch 22/50 : Training loss: 0.0135 | Training Accuracy: 99.6067\n",
            "Epoch 23/50 : Training loss: 0.0145 | Training Accuracy: 99.6167\n",
            "Epoch 24/50 : Training loss: 0.0165 | Training Accuracy: 99.5617\n",
            "Epoch 25/50 : Training loss: 0.0144 | Training Accuracy: 99.6067\n",
            "Epoch 26/50 : Training loss: 0.0145 | Training Accuracy: 99.6167\n",
            "Epoch 27/50 : Training loss: 0.0119 | Training Accuracy: 99.6600\n",
            "Epoch 28/50 : Training loss: 0.0122 | Training Accuracy: 99.6850\n",
            "Epoch 29/50 : Training loss: 0.0109 | Training Accuracy: 99.7333\n",
            "Epoch 30/50 : Training loss: 0.0143 | Training Accuracy: 99.6450\n",
            "Epoch 31/50 : Training loss: 0.0124 | Training Accuracy: 99.6783\n",
            "Epoch 32/50 : Training loss: 0.0138 | Training Accuracy: 99.6550\n",
            "Epoch 33/50 : Training loss: 0.0146 | Training Accuracy: 99.6117\n",
            "Epoch 34/50 : Training loss: 0.0127 | Training Accuracy: 99.6750\n",
            "Epoch 35/50 : Training loss: 0.0164 | Training Accuracy: 99.6433\n",
            "Epoch 36/50 : Training loss: 0.0125 | Training Accuracy: 99.7117\n",
            "Epoch 37/50 : Training loss: 0.0109 | Training Accuracy: 99.7650\n",
            "Epoch 38/50 : Training loss: 0.0093 | Training Accuracy: 99.7867\n",
            "Epoch 39/50 : Training loss: 0.0095 | Training Accuracy: 99.7917\n",
            "Epoch 40/50 : Training loss: 0.0129 | Training Accuracy: 99.7150\n",
            "Epoch 41/50 : Training loss: 0.0092 | Training Accuracy: 99.7683\n",
            "Epoch 42/50 : Training loss: 0.0145 | Training Accuracy: 99.6950\n",
            "Epoch 43/50 : Training loss: 0.0112 | Training Accuracy: 99.7717\n",
            "Epoch 44/50 : Training loss: 0.0111 | Training Accuracy: 99.7717\n",
            "Epoch 45/50 : Training loss: 0.0123 | Training Accuracy: 99.7433\n",
            "Epoch 46/50 : Training loss: 0.0076 | Training Accuracy: 99.8217\n",
            "Epoch 47/50 : Training loss: 0.0116 | Training Accuracy: 99.7867\n",
            "Epoch 48/50 : Training loss: 0.0136 | Training Accuracy: 99.7033\n",
            "Epoch 49/50 : Training loss: 0.0129 | Training Accuracy: 99.7383\n",
            "Epoch 50/50 : Training loss: 0.0127 | Training Accuracy: 99.7450\n",
            "For Learning Rate: 0.01 and Neural Network net 4\n",
            "Epoch 1/50 : Training loss: 0.1873 | Training Accuracy: 93.9400\n",
            "Epoch 2/50 : Training loss: 0.0690 | Training Accuracy: 97.9617\n",
            "Epoch 3/50 : Training loss: 0.0582 | Training Accuracy: 98.3017\n",
            "Epoch 4/50 : Training loss: 0.0548 | Training Accuracy: 98.4483\n",
            "Epoch 5/50 : Training loss: 0.0473 | Training Accuracy: 98.7183\n",
            "Epoch 6/50 : Training loss: 0.0464 | Training Accuracy: 98.7450\n",
            "Epoch 7/50 : Training loss: 0.0473 | Training Accuracy: 98.6767\n",
            "Epoch 8/50 : Training loss: 0.0467 | Training Accuracy: 98.7633\n",
            "Epoch 9/50 : Training loss: 0.0504 | Training Accuracy: 98.7000\n",
            "Epoch 10/50 : Training loss: 0.0377 | Training Accuracy: 98.9983\n",
            "Epoch 11/50 : Training loss: 0.0449 | Training Accuracy: 98.8850\n",
            "Epoch 12/50 : Training loss: 0.0389 | Training Accuracy: 98.9650\n",
            "Epoch 13/50 : Training loss: 0.0394 | Training Accuracy: 98.9750\n",
            "Epoch 14/50 : Training loss: 0.0428 | Training Accuracy: 99.0183\n",
            "Epoch 15/50 : Training loss: 0.0309 | Training Accuracy: 99.2650\n",
            "Epoch 16/50 : Training loss: 0.0357 | Training Accuracy: 99.1833\n",
            "Epoch 17/50 : Training loss: 0.0365 | Training Accuracy: 99.2067\n",
            "Epoch 18/50 : Training loss: 0.0297 | Training Accuracy: 99.3083\n",
            "Epoch 19/50 : Training loss: 0.0426 | Training Accuracy: 99.1150\n",
            "Epoch 20/50 : Training loss: 0.0386 | Training Accuracy: 99.1833\n",
            "Epoch 21/50 : Training loss: 0.0345 | Training Accuracy: 99.1983\n",
            "Epoch 22/50 : Training loss: 0.0383 | Training Accuracy: 99.2100\n",
            "Epoch 23/50 : Training loss: 0.0345 | Training Accuracy: 99.2883\n",
            "Epoch 24/50 : Training loss: 0.0363 | Training Accuracy: 99.2433\n",
            "Epoch 25/50 : Training loss: 0.0485 | Training Accuracy: 98.9833\n",
            "Epoch 26/50 : Training loss: 0.0317 | Training Accuracy: 99.3367\n",
            "Epoch 27/50 : Training loss: 0.0292 | Training Accuracy: 99.4117\n",
            "Epoch 28/50 : Training loss: 0.0273 | Training Accuracy: 99.4333\n",
            "Epoch 29/50 : Training loss: 0.0441 | Training Accuracy: 99.1800\n",
            "Epoch 30/50 : Training loss: 0.0319 | Training Accuracy: 99.3700\n",
            "Epoch 31/50 : Training loss: 0.0373 | Training Accuracy: 99.2833\n",
            "Epoch 32/50 : Training loss: 0.0344 | Training Accuracy: 99.2767\n",
            "Epoch 33/50 : Training loss: 0.0314 | Training Accuracy: 99.4400\n",
            "Epoch 34/50 : Training loss: 0.0261 | Training Accuracy: 99.4833\n",
            "Epoch 35/50 : Training loss: 0.0233 | Training Accuracy: 99.4767\n",
            "Epoch 36/50 : Training loss: 0.0282 | Training Accuracy: 99.4533\n",
            "Epoch 37/50 : Training loss: 0.0489 | Training Accuracy: 99.1533\n",
            "Epoch 38/50 : Training loss: 0.0518 | Training Accuracy: 99.1183\n",
            "Epoch 39/50 : Training loss: 0.0383 | Training Accuracy: 99.2350\n",
            "Epoch 40/50 : Training loss: 0.0392 | Training Accuracy: 99.3133\n",
            "Epoch 41/50 : Training loss: 0.0235 | Training Accuracy: 99.5267\n",
            "Epoch 42/50 : Training loss: 0.0379 | Training Accuracy: 99.3883\n",
            "Epoch 43/50 : Training loss: 0.0475 | Training Accuracy: 99.1733\n",
            "Epoch 44/50 : Training loss: 0.0329 | Training Accuracy: 99.4017\n",
            "Epoch 45/50 : Training loss: 0.0504 | Training Accuracy: 99.0600\n",
            "Epoch 46/50 : Training loss: 0.0374 | Training Accuracy: 99.3000\n",
            "Epoch 47/50 : Training loss: 0.0337 | Training Accuracy: 99.3517\n",
            "Epoch 48/50 : Training loss: 0.0425 | Training Accuracy: 99.3433\n",
            "Epoch 49/50 : Training loss: 0.0260 | Training Accuracy: 99.4950\n",
            "Epoch 50/50 : Training loss: 0.0272 | Training Accuracy: 99.4933\n"
          ],
          "name": "stdout"
        }
      ]
    },
    {
      "cell_type": "code",
      "metadata": {
        "id": "ol8o1BnEIcE3",
        "colab_type": "code",
        "colab": {
          "base_uri": "https://localhost:8080/",
          "height": 1000
        },
        "outputId": "b6a45ec4-3c1b-48f5-8884-f8bd9bcb05bb"
      },
      "source": [
        "temp1=[0,1,2,3]\n",
        "for j in temp1:\n",
        "  title=\"For Learning rate:\"+ str(learning_rate[j])\n",
        "  fig = plt.figure(figsize=[15,5]) \n",
        "  plt.subplot(121)\n",
        "  plt.plot(range(num_epochs1),Train_loss1[j],'r-',label=title +' Loss') \n",
        "  plt.legend(loc='upper right')\n",
        "  plt.xlabel('Epochs')\n",
        "  plt.ylabel('Training')\n",
        "  plt.subplot(122)\n",
        "  plt.plot(range(num_epochs1),Train_acc1[j],'g-',label=title+ ' Accuracy') \n",
        "  plt.legend(loc='upper right')\n",
        "  plt.xlabel('Epochs')\n",
        "  plt.ylabel('Training')"
      ],
      "execution_count": null,
      "outputs": [
        {
          "output_type": "display_data",
          "data": {
            "image/png": "[encoded data removed]",
            "text/plain": [
              "<Figure size 1080x360 with 2 Axes>"
            ]
          },
          "metadata": {
            "tags": []
          }
        },
        {
          "output_type": "display_data",
          "data": {
            "image/png": "[encoded data removed]",
            "text/plain": [
              "<Figure size 1080x360 with 2 Axes>"
            ]
          },
          "metadata": {
            "tags": []
          }
        },
        {
          "output_type": "display_data",
          "data": {
            "image/png": "[encoded data removed]",
            "text/plain": [
              "<Figure size 1080x360 with 2 Axes>"
            ]
          },
          "metadata": {
            "tags": []
          }
        },
        {
          "output_type": "display_data",
          "data": {
            "image/png": "[encoded data removed]",
            "text/plain": [
              "<Figure size 1080x360 with 2 Axes>"
            ]
          },
          "metadata": {
            "tags": []
          }
        }
      ]
    },
    {
      "cell_type": "markdown",
      "metadata": {
        "id": "uvccUYha0Vd7",
        "colab_type": "text"
      },
      "source": [
        "##Thus we can conclude, we need to set low value of learning rate for ADAM"
      ]
    },
    {
      "cell_type": "code",
      "metadata": {
        "id": "nqqV6ySLIfU2",
        "colab_type": "code",
        "colab": {
          "base_uri": "https://localhost:8080/",
          "height": 153
        },
        "outputId": "6bcce5a2-2679-4d5e-8211-ba4ed55eeba3"
      },
      "source": [
        "correct_pred1 = 0\n",
        "for j in range(0,4):\n",
        "  print(\"For Learning Rate:\"+ str(learning_rate[j]))\n",
        "  for data in testLoader1:\n",
        "      inputs,labels = data\n",
        "      if use_gpu:\n",
        "          inputs, labels = inputs.cuda(),labels.cuda()\n",
        "      # Feedforward train data batch through model\n",
        "      output = Net[j](inputs) \n",
        "      # Predicted class is the one with maximum probability\n",
        "      preds = torch.argmax(output,dim=1)\n",
        "      correct_pred1 += torch.sum(preds==labels)\n",
        "\n",
        "  test_accuracy1 = correct_pred1.item()/10000.0\n",
        "  print('Testing accuracy = ',test_accuracy1*100)\n",
        "  correct_pred1=0"
      ],
      "execution_count": null,
      "outputs": [
        {
          "output_type": "stream",
          "text": [
            "For Learning Rate:0.0005\n",
            "Testing accuracy =  99.13\n",
            "For Learning Rate:0.001\n",
            "Testing accuracy =  98.94\n",
            "For Learning Rate:0.005\n",
            "Testing accuracy =  98.89\n",
            "For Learning Rate:0.01\n",
            "Testing accuracy =  98.61\n"
          ],
          "name": "stdout"
        }
      ]
    }
  ]
}
