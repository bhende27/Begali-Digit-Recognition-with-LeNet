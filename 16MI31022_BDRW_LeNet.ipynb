{
  "nbformat": 4,
  "nbformat_minor": 0,
  "metadata": {
    "colab": {
      "name": "16MI31022_BDRW_Coding_Project 1.ipynb",
      "provenance": [],
      "collapsed_sections": [],
      "toc_visible": true,
      "include_colab_link": true
    },
    "kernelspec": {
      "name": "python3",
      "display_name": "Python 3"
    }
  },
  "cells": [
    {
      "cell_type": "markdown",
      "metadata": {
        "id": "view-in-github",
        "colab_type": "text"
      },
      "source": [
        "<a href=\"https://colab.research.google.com/github/bhende27/Begali-Digit-Recognition-with-LeNet/blob/master/16MI31022_BDRW_LeNet.ipynb\" target=\"_parent\"><img src=\"https://colab.research.google.com/assets/colab-badge.svg\" alt=\"Open In Colab\"/></a>"
      ]
    },
    {
      "cell_type": "code",
      "metadata": {
        "id": "Fn-aqcR2uWEG",
        "colab_type": "code",
        "colab": {}
      },
      "source": [
        "import numpy as np\n",
        "import pandas as pd\n",
        "import matplotlib.pyplot as plt\n",
        "import os\n"
      ],
      "execution_count": 1,
      "outputs": []
    },
    {
      "cell_type": "code",
      "metadata": {
        "id": "M7N_UV-GtQ2p",
        "colab_type": "code",
        "colab": {
          "base_uri": "https://localhost:8080/",
          "height": 125
        },
        "outputId": "30776cb8-eb73-43ab-86e8-60b303d8683d"
      },
      "source": [
        "from google.colab import drive\n",
        "drive.mount(\"/content/drive\")"
      ],
      "execution_count": 2,
      "outputs": [
        {
          "output_type": "stream",
          "text": [
            "Go to this URL in a browser: https://accounts.google.com/o/oauth2/auth?client_id=947318989803-6bn6qk8qdgf4n4g3pfee6491hc0brc4i.apps.googleusercontent.com&redirect_uri=urn%3aietf%3awg%3aoauth%3a2.0%3aoob&scope=email%20https%3a%2f%2fwww.googleapis.com%2fauth%2fdocs.test%20https%3a%2f%2fwww.googleapis.com%2fauth%2fdrive%20https%3a%2f%2fwww.googleapis.com%2fauth%2fdrive.photos.readonly%20https%3a%2f%2fwww.googleapis.com%2fauth%2fpeopleapi.readonly&response_type=code\n",
            "\n",
            "Enter your authorization code:\n",
            "··········\n",
            "Mounted at /content/drive\n"
          ],
          "name": "stdout"
        }
      ]
    },
    {
      "cell_type": "code",
      "metadata": {
        "id": "jzl7dvKDxaoZ",
        "colab_type": "code",
        "colab": {}
      },
      "source": [
        "# import cv2\n",
        "\n",
        "# image=[]\n",
        "# count=0\n",
        "# for i in range (0,1548):\n",
        "#     fname= path + str(i)+ \".jpg\"\n",
        "#     if (os.path.exists(fname)):\n",
        "#       img= cv2.imread(fname)\n",
        "#       image.append(img)\n",
        "#       count=count+1  \n",
        "#  from google.colab.patches import cv2_imshow\n",
        "#  cv2_imshow(image[11])      "
      ],
      "execution_count": null,
      "outputs": []
    },
    {
      "cell_type": "markdown",
      "metadata": {
        "id": "V8roV-mdxjYd",
        "colab_type": "text"
      },
      "source": [
        "##Spiltting of dataset into train test and validation"
      ]
    },
    {
      "cell_type": "code",
      "metadata": {
        "id": "VAaggBhW5HLh",
        "colab_type": "code",
        "colab": {}
      },
      "source": [
        "df=pd.read_excel(\"/content/drive/My Drive/data/BDRW_train_1/labels.xls\",index_col=None, header= None)\n",
        "train, validate, test = np.split(df.sample(frac=1), [int(.8*len(df)), int(.9*len(df))])"
      ],
      "execution_count": 3,
      "outputs": []
    },
    {
      "cell_type": "markdown",
      "metadata": {
        "id": "iekz_iJDyPuT",
        "colab_type": "text"
      },
      "source": [
        "Looking for imbalanced class"
      ]
    },
    {
      "cell_type": "code",
      "metadata": {
        "id": "n1PTzTDGxt4b",
        "colab_type": "code",
        "colab": {
          "base_uri": "https://localhost:8080/",
          "height": 282
        },
        "outputId": "91db6c28-4b02-4429-89a1-8abd760d46e1"
      },
      "source": [
        "df[1].hist()"
      ],
      "execution_count": 4,
      "outputs": [
        {
          "output_type": "execute_result",
          "data": {
            "text/plain": [
              "<matplotlib.axes._subplots.AxesSubplot at 0x7f4ba1f8ee10>"
            ]
          },
          "metadata": {
            "tags": []
          },
          "execution_count": 4
        },
        {
          "output_type": "display_data",
          "data": {
            "image/png": "[encoded data removed]",
            "text/plain": [
              "<Figure size 432x288 with 1 Axes>"
            ]
          },
          "metadata": {
            "tags": [],
            "needs_background": "light"
          }
        }
      ]
    },
    {
      "cell_type": "markdown",
      "metadata": {
        "id": "nn8SvtGkyYQk",
        "colab_type": "text"
      },
      "source": [
        "there are more sample consisting of 0, 1 2 and 3. Clearly data is not uniformly distributed"
      ]
    },
    {
      "cell_type": "code",
      "metadata": {
        "id": "nhOJIwK2kkXV",
        "colab_type": "code",
        "colab": {}
      },
      "source": [
        "# from keras.utils.np_utils import to_categorical\n",
        "# Y = to_categorical(label['label'], num_classes = 10)"
      ],
      "execution_count": null,
      "outputs": []
    },
    {
      "cell_type": "code",
      "metadata": {
        "id": "Aa9Xufy6OQUS",
        "colab_type": "code",
        "colab": {}
      },
      "source": [
        "#  R_image=[]\n",
        "#  for i in range(0, 1393):\n",
        "#    r_image = cv2.resize(image[i], (32, 32), interpolation=cv2.INTER_NEAREST)\n",
        "#    R_image.append(r_image)\n",
        "# imdata =np.vstack(R_image)\n",
        "# imdata= imdata.reshape(-1,32,32, 3)\n",
        "# from sklearn.model_selection import train_test_split\n",
        "# X_train, X_test, y_train, y_test = train_test_split(imdata, Y, test_size = 0.2, random_state =0)"
      ],
      "execution_count": null,
      "outputs": []
    },
    {
      "cell_type": "code",
      "metadata": {
        "id": "Awr4QnrmbEne",
        "colab_type": "code",
        "colab": {}
      },
      "source": [
        "%matplotlib inline\n",
        "import torch\n",
        "import numpy as np\n",
        "import torch.nn as nn\n",
        "import torch.nn.functional as F\n",
        "import matplotlib.pyplot as plt\n",
        "from torchvision import transforms, datasets\n",
        "from torch.utils.data import Dataset\n",
        "from torch.utils.data import DataLoader\n",
        "from PIL import Image\n",
        "import torch.optim as optim"
      ],
      "execution_count": 5,
      "outputs": []
    },
    {
      "cell_type": "code",
      "metadata": {
        "id": "490WVcdqSHaY",
        "colab_type": "code",
        "colab": {}
      },
      "source": [
        "class MyDataset():\n",
        "    def __init__(self, df, root_dir, transform=None):\n",
        "     \n",
        "        self.label = df\n",
        "        self.root_dir = root_dir\n",
        "        self.transform = transform\n",
        "\n",
        "    def __len__(self):\n",
        "        return len(self.label)\n",
        "\n",
        "    def __getitem__(self, idx):\n",
        "        if torch.is_tensor(idx):\n",
        "            idx = idx.tolist()\n",
        "\n",
        "        img_name = os.path.join(self.root_dir,\n",
        "                                self.label.iloc[idx, 0])\n",
        "        img_name = img_name + \".jpg\"\n",
        "        image = Image.open(img_name)                  #from PIL Library\n",
        "        labels = self.label.iloc[idx, 1]\n",
        "\n",
        "        if self.transform:\n",
        "            image = self.transform(image)\n",
        "            \n",
        "        return image, labels"
      ],
      "execution_count": 6,
      "outputs": []
    },
    {
      "cell_type": "code",
      "metadata": {
        "id": "6ynPyhbaLsby",
        "colab_type": "code",
        "colab": {}
      },
      "source": [
        "path= \"/content/drive/My Drive/data/BDRW_train_1/\"\n",
        "BatchSize = 8\n",
        "apply_transform = transforms.Compose([transforms.Resize((32,32)), transforms.Grayscale(num_output_channels=1), transforms.ToTensor()])\n",
        "\n",
        "trainset = MyDataset( df = train, root_dir=path , transform=apply_transform)\n",
        "trainLoader = DataLoader(trainset, batch_size=BatchSize, shuffle=True, num_workers=4)\n",
        "\n",
        "validateset = MyDataset( df = validate, root_dir=path ,transform=apply_transform)\n",
        "validateLoader = DataLoader(validateset, batch_size=BatchSize, shuffle=True, num_workers=4)\n",
        "\n",
        "testset = MyDataset( df = test, root_dir=path ,transform=apply_transform)\n",
        "testLoader = DataLoader(testset, batch_size=BatchSize, shuffle=True, num_workers=4)\n"
      ],
      "execution_count": 7,
      "outputs": []
    },
    {
      "cell_type": "code",
      "metadata": {
        "id": "gZ7nOLMULJDb",
        "colab_type": "code",
        "colab": {}
      },
      "source": [
        "class LeNet(nn.Module):\n",
        "    def __init__(self):\n",
        "        super(LeNet, self).__init__()\n",
        "        self.conv1 = nn.Conv2d(1, 6, kernel_size=5)\n",
        "        self.pool1 = nn.MaxPool2d(kernel_size=2,stride=2)\n",
        "        self.conv2 = nn.Conv2d(6, 16, kernel_size=5)\n",
        "        self.pool2 = nn.MaxPool2d(kernel_size=2,stride=2)        \n",
        "        self.fc1 = nn.Linear(400, 120)\n",
        "        self.fc2 = nn.Linear(120, 84)\n",
        "        self.fc3 = nn.Linear(84, 10)\n",
        "\n",
        "    def forward(self, x):\n",
        "        x = F.relu(self.conv1(x))\n",
        "        x = self.pool1(x)\n",
        "        x = F.relu(self.conv2(x))\n",
        "        x = self.pool2(x)\n",
        "        x = x.view(-1, 400)\n",
        "        x = F.relu(self.fc1(x)) \n",
        "        x = F.relu(self.fc2(x))\n",
        "        x = self.fc3(x)\n",
        "        return F.log_softmax(x,dim=1)"
      ],
      "execution_count": 8,
      "outputs": []
    },
    {
      "cell_type": "code",
      "metadata": {
        "id": "q5G4g8CpLYx6",
        "colab_type": "code",
        "colab": {
          "base_uri": "https://localhost:8080/",
          "height": 176
        },
        "outputId": "1b07f372-ab54-466b-d9bf-2c26d10c2b8f"
      },
      "source": [
        "use_gpu = torch.cuda.is_available()\n",
        "net = LeNet()\n",
        "print(net)\n",
        "if use_gpu:\n",
        "    print('GPU is avaialble!')\n",
        "    net = net.cuda()"
      ],
      "execution_count": 9,
      "outputs": [
        {
          "output_type": "stream",
          "text": [
            "LeNet(\n",
            "  (conv1): Conv2d(1, 6, kernel_size=(5, 5), stride=(1, 1))\n",
            "  (pool1): MaxPool2d(kernel_size=2, stride=2, padding=0, dilation=1, ceil_mode=False)\n",
            "  (conv2): Conv2d(6, 16, kernel_size=(5, 5), stride=(1, 1))\n",
            "  (pool2): MaxPool2d(kernel_size=2, stride=2, padding=0, dilation=1, ceil_mode=False)\n",
            "  (fc1): Linear(in_features=400, out_features=120, bias=True)\n",
            "  (fc2): Linear(in_features=120, out_features=84, bias=True)\n",
            "  (fc3): Linear(in_features=84, out_features=10, bias=True)\n",
            ")\n"
          ],
          "name": "stdout"
        }
      ]
    },
    {
      "cell_type": "markdown",
      "metadata": {
        "id": "85AqhFWwz-Z8",
        "colab_type": "text"
      },
      "source": [
        "trainable parameter=  122304+5880+151600+2000+48120+10164=340068"
      ]
    },
    {
      "cell_type": "code",
      "metadata": {
        "id": "qd8ucV7fLm6i",
        "colab_type": "code",
        "colab": {
          "base_uri": "https://localhost:8080/",
          "height": 550
        },
        "outputId": "7cacf3cb-ccdf-4deb-e83a-f8ba783cfbe6"
      },
      "source": [
        "criterion = nn.CrossEntropyLoss() \n",
        "learning_rate = 0.005\n",
        "num_epochs = 30\n",
        "optimizer = optim.SGD(net.parameters(),lr=learning_rate,momentum = 0.9)\n",
        "\n",
        "train_loss = []\n",
        "train_acc = []\n",
        "validation_loss = []\n",
        "validation_acc = []\n",
        "\n",
        "for epoch in range(num_epochs):\n",
        "    \n",
        "    running_loss = 0.0 \n",
        "    running_corr = 0\n",
        "        \n",
        "    for i,data in enumerate(trainLoader):\n",
        "        inputs,labels = data\n",
        "        if use_gpu:\n",
        "            inputs, labels = inputs.cuda(),labels.cuda() \n",
        "        # Initializing model gradients to zero\n",
        "        net.zero_grad() \n",
        "        # zero the paramenter gradients\n",
        "        optimizer.zero_grad()\n",
        "        # Data feed-forward through the network\n",
        "        outputs = net(inputs)\n",
        "        # Predicted class is the one with maximum probability\n",
        "        preds = torch.argmax(outputs,dim=1)\n",
        "        # Finding the loss\n",
        "        loss = criterion(outputs, labels)\n",
        "        # Accumulating the loss for each batch\n",
        "        running_loss += loss \n",
        "        # Accumulate number of correct predictions\n",
        "        running_corr += torch.sum(preds==labels)    \n",
        "        # totalLoss = running_loss/(i+1)\n",
        "        # Calculating gradients\n",
        "        loss.backward()\n",
        "        # Updating the model parameters\n",
        "        optimizer.step()\n",
        "        \n",
        "    correct_pred1 = 0\n",
        "    running_loss1 = 0.0\n",
        "    i=0\n",
        "    for data in validateLoader:\n",
        "        inputs1,labels1 = data\n",
        "        if use_gpu:\n",
        "            inputs1, labels1 = inputs1.cuda(),labels1.cuda()\n",
        "        # Feedforward train data batch through model\n",
        "        outputs1 = net(inputs1) \n",
        "        # Predicted class is the one with maximum probability\n",
        "        preds1 = torch.argmax(outputs1,dim=1)\n",
        "        # Finding the loss\n",
        "        loss1 = criterion(outputs1, labels1)\n",
        "        # Accumulating the loss for each batch\n",
        "        running_loss1 += loss1\n",
        "        # Accumulate number of correct predictions\n",
        "        correct_pred1 += torch.sum(preds1==labels1)\n",
        "        i += 1\n",
        "\n",
        "    val_loss = running_loss1.item()/(i+1)\n",
        "    val_acc = correct_pred1.item()/len(validateset)\n",
        "\n",
        "    epoch_loss = running_loss.item()/(i+1)   #Total loss for one epoch\n",
        "    epoch_acc = running_corr.item()/len(trainset)\n",
        "\n",
        "    validation_loss.append(val_loss) #Saving the loss over epochs for plotting the graph\n",
        "    validation_acc.append(val_acc) #Saving the accuracy over epochs for plotting the graph\n",
        "    train_loss.append(epoch_loss) #Saving the loss over epochs for plotting the graph\n",
        "    train_acc.append(epoch_acc) #Saving the accuracy over epochs for plotting the graph\n",
        "        \n",
        "    print('Epoch {:.0f}/{:.0f} : Training loss: {:.4f} | Training Accuracy: {:.4f}| Validation Loss: {:.4f}| Validation Accuracy: {:.4f}'.format(epoch+1,num_epochs,epoch_loss,epoch_acc*100, val_loss, val_acc*100 ))"
      ],
      "execution_count": 10,
      "outputs": [
        {
          "output_type": "stream",
          "text": [
            "Epoch 1/30 : Training loss: 16.5938 | Training Accuracy: 17.8636| Validation Loss: 2.1427| Validation Accuracy: 17.9856\n",
            "Epoch 2/30 : Training loss: 16.3419 | Training Accuracy: 20.6463| Validation Loss: 2.1181| Validation Accuracy: 17.9856\n",
            "Epoch 3/30 : Training loss: 16.2764 | Training Accuracy: 20.9156| Validation Loss: 2.1120| Validation Accuracy: 17.9856\n",
            "Epoch 4/30 : Training loss: 15.4544 | Training Accuracy: 26.5709| Validation Loss: 1.8450| Validation Accuracy: 26.6187\n",
            "Epoch 5/30 : Training loss: 12.9165 | Training Accuracy: 38.7792| Validation Loss: 1.4212| Validation Accuracy: 50.3597\n",
            "Epoch 6/30 : Training loss: 9.3769 | Training Accuracy: 59.1562| Validation Loss: 1.1432| Validation Accuracy: 58.2734\n",
            "Epoch 7/30 : Training loss: 7.4060 | Training Accuracy: 67.1454| Validation Loss: 1.0668| Validation Accuracy: 66.9065\n",
            "Epoch 8/30 : Training loss: 5.2622 | Training Accuracy: 77.4686| Validation Loss: 0.8161| Validation Accuracy: 76.9784\n",
            "Epoch 9/30 : Training loss: 4.1314 | Training Accuracy: 81.9569| Validation Loss: 0.7652| Validation Accuracy: 74.1007\n",
            "Epoch 10/30 : Training loss: 3.3599 | Training Accuracy: 86.0862| Validation Loss: 0.7400| Validation Accuracy: 79.8561\n",
            "Epoch 11/30 : Training loss: 3.2390 | Training Accuracy: 86.9838| Validation Loss: 0.8081| Validation Accuracy: 78.4173\n",
            "Epoch 12/30 : Training loss: 2.4369 | Training Accuracy: 89.4973| Validation Loss: 0.6526| Validation Accuracy: 83.4532\n",
            "Epoch 13/30 : Training loss: 1.8186 | Training Accuracy: 91.4722| Validation Loss: 0.7837| Validation Accuracy: 79.8561\n",
            "Epoch 14/30 : Training loss: 1.6127 | Training Accuracy: 92.4596| Validation Loss: 0.6189| Validation Accuracy: 85.6115\n",
            "Epoch 15/30 : Training loss: 1.1820 | Training Accuracy: 95.2424| Validation Loss: 0.6321| Validation Accuracy: 85.6115\n",
            "Epoch 16/30 : Training loss: 1.0251 | Training Accuracy: 95.5117| Validation Loss: 0.7238| Validation Accuracy: 86.3309\n",
            "Epoch 17/30 : Training loss: 2.1695 | Training Accuracy: 90.8438| Validation Loss: 0.7707| Validation Accuracy: 81.2950\n",
            "Epoch 18/30 : Training loss: 0.9817 | Training Accuracy: 95.7810| Validation Loss: 0.6902| Validation Accuracy: 87.0504\n",
            "Epoch 19/30 : Training loss: 1.3247 | Training Accuracy: 94.9731| Validation Loss: 0.8946| Validation Accuracy: 84.1727\n",
            "Epoch 20/30 : Training loss: 0.6960 | Training Accuracy: 97.3968| Validation Loss: 0.8561| Validation Accuracy: 86.3309\n",
            "Epoch 21/30 : Training loss: 0.7274 | Training Accuracy: 96.9479| Validation Loss: 0.8400| Validation Accuracy: 83.4532\n",
            "Epoch 22/30 : Training loss: 0.7147 | Training Accuracy: 96.6786| Validation Loss: 1.0090| Validation Accuracy: 87.0504\n",
            "Epoch 23/30 : Training loss: 1.1231 | Training Accuracy: 96.0503| Validation Loss: 0.6676| Validation Accuracy: 89.2086\n",
            "Epoch 24/30 : Training loss: 0.7168 | Training Accuracy: 97.1275| Validation Loss: 0.7105| Validation Accuracy: 89.2086\n",
            "Epoch 25/30 : Training loss: 0.2895 | Training Accuracy: 98.9228| Validation Loss: 0.9254| Validation Accuracy: 88.4892\n",
            "Epoch 26/30 : Training loss: 0.3396 | Training Accuracy: 98.2047| Validation Loss: 1.1410| Validation Accuracy: 86.3309\n",
            "Epoch 27/30 : Training loss: 0.3435 | Training Accuracy: 98.7433| Validation Loss: 0.9052| Validation Accuracy: 87.0504\n",
            "Epoch 28/30 : Training loss: 0.1149 | Training Accuracy: 99.5512| Validation Loss: 0.9479| Validation Accuracy: 88.4892\n",
            "Epoch 29/30 : Training loss: 0.0454 | Training Accuracy: 100.0000| Validation Loss: 1.0470| Validation Accuracy: 88.4892\n",
            "Epoch 30/30 : Training loss: 0.0731 | Training Accuracy: 99.7307| Validation Loss: 1.1091| Validation Accuracy: 88.4892\n"
          ],
          "name": "stdout"
        }
      ]
    },
    {
      "cell_type": "code",
      "metadata": {
        "id": "7hfM_8eGjGUH",
        "colab_type": "code",
        "colab": {
          "base_uri": "https://localhost:8080/",
          "height": 670
        },
        "outputId": "3241cbed-902c-4090-e994-fa3e2742a63a"
      },
      "source": [
        "fig = plt.figure(figsize=[15,5]) \n",
        "plt.subplot(121)\n",
        "plt.plot(range(num_epochs),train_loss,'r-',label='Loss') \n",
        "plt.legend(loc='upper right')\n",
        "plt.xlabel('Epochs')\n",
        "plt.ylabel('Training')\n",
        "plt.subplot(122)\n",
        "plt.plot(range(num_epochs),train_acc,'g-',label='Accuracy') \n",
        "plt.legend(loc='upper right')\n",
        "plt.xlabel('Epochs')\n",
        "plt.ylabel('Training')\n",
        "fig = plt.figure(figsize=[15,5]) \n",
        "plt.subplot(121)\n",
        "plt.plot(range(num_epochs),validation_loss,'r-',label='Validation Loss') \n",
        "plt.legend(loc='upper right')\n",
        "plt.xlabel('Epochs')\n",
        "plt.ylabel('Validation')\n",
        "plt.subplot(122)\n",
        "plt.plot(range(num_epochs),validation_acc,'r-',label='Validation Accuracy') \n",
        "plt.legend(loc='upper right')\n",
        "plt.xlabel('Epochs')\n",
        "plt.ylabel('Validation')\\"
      ],
      "execution_count": 11,
      "outputs": [
        {
          "output_type": "execute_result",
          "data": {
            "text/plain": [
              "Text(0, 0.5, 'Validation')"
            ]
          },
          "metadata": {
            "tags": []
          },
          "execution_count": 11
        },
        {
          "output_type": "display_data",
          "data": {
            "image/png": "[encoded data removed]",
            "text/plain": [
              "<Figure size 1080x360 with 2 Axes>"
            ]
          },
          "metadata": {
            "tags": [],
            "needs_background": "light"
          }
        },
        {
          "output_type": "display_data",
          "data": {
            "image/png": "[encoded data removed]",
            "text/plain": [
              "<Figure size 1080x360 with 2 Axes>"
            ]
          },
          "metadata": {
            "tags": [],
            "needs_background": "light"
          }
        }
      ]
    },
    {
      "cell_type": "code",
      "metadata": {
        "id": "6GlHllZ-lWGO",
        "colab_type": "code",
        "colab": {
          "base_uri": "https://localhost:8080/",
          "height": 34
        },
        "outputId": "21e1fbe5-c2cf-4804-a7fe-af3e4c652475"
      },
      "source": [
        "correct_pred = 0\n",
        "for data in testLoader:\n",
        "    inputs,labels = data\n",
        "    if use_gpu:\n",
        "        inputs, labels = inputs.cuda(),labels.cuda()\n",
        "    # Feedforward train data batch through model\n",
        "    output = net(inputs) \n",
        "    # Predicted class is the one with maximum probability\n",
        "    preds = torch.argmax(output,dim=1)\n",
        "    correct_pred += torch.sum(preds==labels)\n",
        "\n",
        "test_accuracy = correct_pred.item()/len(testset)\n",
        "print('Testing accuracy = ',test_accuracy*100)"
      ],
      "execution_count": 12,
      "outputs": [
        {
          "output_type": "stream",
          "text": [
            "Testing accuracy =  86.42857142857143\n"
          ],
          "name": "stdout"
        }
      ]
    },
    {
      "cell_type": "code",
      "metadata": {
        "id": "9KjwQDhkmobH",
        "colab_type": "code",
        "colab": {}
      },
      "source": [
        ""
      ],
      "execution_count": null,
      "outputs": []
    }
  ]
}